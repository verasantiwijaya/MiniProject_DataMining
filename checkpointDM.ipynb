{
  "nbformat": 4,
  "nbformat_minor": 0,
  "metadata": {
    "colab": {
      "provenance": [],
      "authorship_tag": "ABX9TyPpZJArk+Fbl84Sob0cQI8U",
      "include_colab_link": true
    },
    "kernelspec": {
      "name": "python3",
      "display_name": "Python 3"
    },
    "language_info": {
      "name": "python"
    }
  },
  "cells": [
    {
      "cell_type": "markdown",
      "metadata": {
        "id": "view-in-github",
        "colab_type": "text"
      },
      "source": [
        "<a href=\"https://colab.research.google.com/github/verasantiwijaya/MiniProject_DataMining/blob/main/checkpointDM.ipynb\" target=\"_parent\"><img src=\"https://colab.research.google.com/assets/colab-badge.svg\" alt=\"Open In Colab\"/></a>"
      ]
    },
    {
      "cell_type": "markdown",
      "source": [
        "# Memahami Pola Kebiasaan Konsumen di Platform E-Commerce"
      ],
      "metadata": {
        "id": "v33QcMuZOjJ7"
      }
    },
    {
      "cell_type": "markdown",
      "source": [
        "## Business Understanding"
      ],
      "metadata": {
        "id": "EQDuNdapO0_Z"
      }
    },
    {
      "cell_type": "markdown",
      "source": [
        "**Business Objective**\n",
        "\n",
        "Tujuan bisnis dari dataset ini adalah untuk memberikan pemahaman terkait kebiasaan berbelanja konsumen di platform e-commerce. Hal ini dilakukan dengan mengenali siapa konsumen dari bisnis ini, menentukan waktu yang tepat untuk memberikan diskon, serta memahami tingkat kepuasan mereka. Dengan demikian, tujuan utamanya adalah menciptakan pengalaman berbelanja yang menyenangkan dengan menyesuaikan penawaran yang sesuai dengan keinginan konsumen. Selain itu, diharapkan dataset ini dapat mendukung pertumbuhan bisnis e-commerce untuk semakin berkembang.\n",
        "\n",
        "**Assess Situation**\n",
        "\n",
        "Situasi bisnis yang mendasari analisis kebiasaan konsumen e-commerce adalah persaingan ketat di pasar yang terus berubah. Platform e-commerce perlu memahami lebih dalam perilaku konsumen untuk tetap relevan dan berkembang. Hal ini diperlukan untuk memandu pengambilan keputusan bisnis yang efektif dan mempertahankan daya saing di pasar yang kompetitif.\n",
        "\n",
        "**Data Mining Goal**\n",
        "\n",
        "Tujuan data mining pada dataset ini adalah untuk mendapatkan pemahaman komprehensif mengenai kebiasaan berbelanja konsumen di platform e-commerce. Fokus utamanya adalah mengidentifikasi pola-pola perilaku konsumen dan faktor-faktor yang memengaruhi tingkat kepuasan mereka. Dengan demikian, hasil dari data mining ini diharapkan dapat mendukung pengembangan strategi bisnis yang lebih cerdas dan berorientasi pada konsumen, menciptakan pengalaman berbelanja yang lebih baik, serta meningkatkan kinerja dan daya saing bisnis di pasar e-commerce.\n",
        "\n",
        "**Project Plan**\n",
        "\n",
        "Rencana proyek untuk menganalisis dataset ini diawali dengan melibatkan pengumpulan data konsumen dari sumber yang telah ada. Selanjutnya melakukan pemahaman mendalam terhadap struktur dan karakteristik dataset, serta identifikasi tujuan analisis yang spesifik. Langkah selanjutnya akan fokus pada pra-pemrosesan data, termasuk pembersihan data, pengelolaan missing values, dan transformasi variabel yang diperlukan. Setelah itu, akan dilakukan pemilihan model dan pengembangan yang sesuai dengan tujuan analisis. Evaluasi model dan fine-tuning akan menjadi fokus tahap berikutnya sebelum akhirnya menyajikan hasil analisis dalam format yang jelas dan dapat dimengerti.\n"
      ],
      "metadata": {
        "id": "Lmf9B5nyPCU3"
      }
    }
  ]
}