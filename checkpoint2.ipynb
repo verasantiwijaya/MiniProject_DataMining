{
  "nbformat": 4,
  "nbformat_minor": 0,
  "metadata": {
    "colab": {
      "provenance": [],
      "authorship_tag": "ABX9TyPVkRwcZ8c2gQc6+4/YYWfL",
      "include_colab_link": true
    },
    "kernelspec": {
      "name": "python3",
      "display_name": "Python 3"
    },
    "language_info": {
      "name": "python"
    }
  },
  "cells": [
    {
      "cell_type": "markdown",
      "metadata": {
        "id": "view-in-github",
        "colab_type": "text"
      },
      "source": [
        "<a href=\"https://colab.research.google.com/github/verasantiwijaya/MiniProject_DataMining/blob/main/checkpoint2.ipynb\" target=\"_parent\"><img src=\"https://colab.research.google.com/assets/colab-badge.svg\" alt=\"Open In Colab\"/></a>"
      ]
    },
    {
      "cell_type": "markdown",
      "source": [
        "# **Memahami Pola Kebiasaan Konsumen di Platform E-Commerce**"
      ],
      "metadata": {
        "id": "JT0crU8tIcqV"
      }
    },
    {
      "cell_type": "markdown",
      "source": [
        "#**Import Library**"
      ],
      "metadata": {
        "id": "jrVEbm1zJcf9"
      }
    },
    {
      "cell_type": "code",
      "source": [
        "import seaborn as sns\n",
        "import matplotlib.pyplot as plt\n",
        "import pandas as pd\n",
        "import numpy as np"
      ],
      "metadata": {
        "id": "S8wtM4XbJhHX"
      },
      "execution_count": 1,
      "outputs": []
    },
    {
      "cell_type": "markdown",
      "source": [
        "#**BUSINESS UNDERSTANDING**"
      ],
      "metadata": {
        "id": "KaN4oJ2sKDGA"
      }
    },
    {
      "cell_type": "markdown",
      "source": [
        "##**Business Objective**"
      ],
      "metadata": {
        "id": "dyVNBMg5KG68"
      }
    },
    {
      "cell_type": "markdown",
      "source": [
        "Tujuan bisnis dari dataset ini adalah untuk memberikan pemahaman terkait kebiasaan berbelanja konsumen di platform e-commerce. Hal ini dilakukan dengan mengenali siapa konsumen dari bisnis ini, menentukan waktu yang tepat untuk memberikan diskon, serta memahami tingkat kepuasan mereka. Dengan demikian, tujuan utamanya adalah menciptakan pengalaman berbelanja yang menyenangkan dengan menyesuaikan penawaran yang sesuai dengan keinginan konsumen. Selain itu, diharapkan dataset ini dapat mendukung pertumbuhan bisnis e-commerce untuk semakin berkembang."
      ],
      "metadata": {
        "id": "d85xu23IKMBA"
      }
    },
    {
      "cell_type": "markdown",
      "source": [
        "##**Assess Situation**"
      ],
      "metadata": {
        "id": "fqrlaWEtKUIE"
      }
    },
    {
      "cell_type": "markdown",
      "source": [
        "Situasi bisnis yang mendasari analisis kebiasaan konsumen e-commerce adalah persaingan ketat di pasar yang terus berubah. Platform e-commerce perlu memahami lebih dalam perilaku konsumen untuk tetap relevan dan berkembang. Hal ini diperlukan untuk memandu pengambilan keputusan bisnis yang efektif dan mempertahankan daya saing di pasar yang kompetitif."
      ],
      "metadata": {
        "id": "5C8R6hr4KYdw"
      }
    },
    {
      "cell_type": "markdown",
      "source": [
        "##**Data Mining Goals**"
      ],
      "metadata": {
        "id": "YyXkXTNnKgy6"
      }
    },
    {
      "cell_type": "markdown",
      "source": [
        "Tujuan data mining pada dataset ini adalah untuk mendapatkan pemahaman komprehensif mengenai kebiasaan berbelanja konsumen di platform e-commerce. Fokus utamanya adalah mengidentifikasi pola-pola perilaku konsumen dan faktor-faktor yang memengaruhi tingkat kepuasan mereka. Dengan demikian, hasil dari data mining ini diharapkan dapat mendukung pengembangan strategi bisnis yang lebih cerdas dan berorientasi pada konsumen dan menciptakan pengalaman berbelanja yang lebih baik"
      ],
      "metadata": {
        "id": "O8PVVw9MKlAj"
      }
    },
    {
      "cell_type": "markdown",
      "source": [
        "##**Project Plan**"
      ],
      "metadata": {
        "id": "OPRn_iBVK07f"
      }
    },
    {
      "cell_type": "markdown",
      "source": [
        "Rencana proyek untuk menganalisis dataset ini diawali dengan melibatkan pengumpulan data konsumen dari sumber yang telah ada. Selanjutnya melakukan pemahaman mendalam terhadap struktur dan karakteristik dataset, serta identifikasi tujuan analisis yang spesifik. Langkah selanjutnya akan fokus pada pra-pemrosesan data, termasuk pembersihan data, pengelolaan missing values, dan transformasi variabel yang diperlukan. Setelah itu, akan dilakukan pemilihan model dan pengembangan yang sesuai dengan tujuan analisis. Evaluasi model dan fine-tuning akan menjadi fokus tahap berikutnya sebelum akhirnya menyajikan hasil analisis dalam format yang jelas dan dapat dimengerti."
      ],
      "metadata": {
        "id": "4l53xD4cK4UN"
      }
    },
    {
      "cell_type": "markdown",
      "source": [
        "#**DATA UNDERSTANDING**"
      ],
      "metadata": {
        "id": "qS_juGkrNGqY"
      }
    },
    {
      "cell_type": "markdown",
      "source": [
        "##**Collect Initial Data**"
      ],
      "metadata": {
        "id": "Ha4uAyAENH3v"
      }
    },
    {
      "cell_type": "markdown",
      "source": [
        "Dataset ini berasal dari situs Kaggle dengan judul **E-commerce Customer Behavior Dataset**, link sumbernya dapat ditemukan di: [link dataset](https://www.kaggle.com/datasets/uom190346a/e-commerce-customer-behavior-dataset )"
      ],
      "metadata": {
        "id": "Ol8qjknoqwec"
      }
    },
    {
      "cell_type": "code",
      "source": [
        "df = pd.read_csv('https://raw.githubusercontent.com/verasantiwijaya/MiniProject_DataMining/main/Dataset%20E-commerce.csv')\n",
        "df.head()"
      ],
      "metadata": {
        "colab": {
          "base_uri": "https://localhost:8080/",
          "height": 206
        },
        "id": "qNbJs2ZdNanI",
        "outputId": "b60c600c-afbe-480f-eafb-f2c56adbc011"
      },
      "execution_count": 2,
      "outputs": [
        {
          "output_type": "execute_result",
          "data": {
            "text/plain": [
              "   Customer ID  Gender  Age           City Membership Type  Total Spend  \\\n",
              "0          101  Female   29       New York            Gold      1120.20   \n",
              "1          102    Male   34    Los Angeles          Silver       780.50   \n",
              "2          103  Female   43        Chicago          Bronze       510.75   \n",
              "3          104    Male   30  San Francisco            Gold      1480.30   \n",
              "4          105    Male   27          Miami          Silver       720.40   \n",
              "\n",
              "   Items Purchased  Average Rating  Discount Applied  \\\n",
              "0               14             4.6              True   \n",
              "1               11             4.1             False   \n",
              "2                9             3.4              True   \n",
              "3               19             4.7             False   \n",
              "4               13             4.0              True   \n",
              "\n",
              "   Days Since Last Purchase Satisfaction Level  \n",
              "0                        25          Satisfied  \n",
              "1                        18            Neutral  \n",
              "2                        42        Unsatisfied  \n",
              "3                        12          Satisfied  \n",
              "4                        55        Unsatisfied  "
            ],
            "text/html": [
              "\n",
              "  <div id=\"df-7b57b19b-05c7-4a7e-aef1-52dc171e6648\" class=\"colab-df-container\">\n",
              "    <div>\n",
              "<style scoped>\n",
              "    .dataframe tbody tr th:only-of-type {\n",
              "        vertical-align: middle;\n",
              "    }\n",
              "\n",
              "    .dataframe tbody tr th {\n",
              "        vertical-align: top;\n",
              "    }\n",
              "\n",
              "    .dataframe thead th {\n",
              "        text-align: right;\n",
              "    }\n",
              "</style>\n",
              "<table border=\"1\" class=\"dataframe\">\n",
              "  <thead>\n",
              "    <tr style=\"text-align: right;\">\n",
              "      <th></th>\n",
              "      <th>Customer ID</th>\n",
              "      <th>Gender</th>\n",
              "      <th>Age</th>\n",
              "      <th>City</th>\n",
              "      <th>Membership Type</th>\n",
              "      <th>Total Spend</th>\n",
              "      <th>Items Purchased</th>\n",
              "      <th>Average Rating</th>\n",
              "      <th>Discount Applied</th>\n",
              "      <th>Days Since Last Purchase</th>\n",
              "      <th>Satisfaction Level</th>\n",
              "    </tr>\n",
              "  </thead>\n",
              "  <tbody>\n",
              "    <tr>\n",
              "      <th>0</th>\n",
              "      <td>101</td>\n",
              "      <td>Female</td>\n",
              "      <td>29</td>\n",
              "      <td>New York</td>\n",
              "      <td>Gold</td>\n",
              "      <td>1120.20</td>\n",
              "      <td>14</td>\n",
              "      <td>4.6</td>\n",
              "      <td>True</td>\n",
              "      <td>25</td>\n",
              "      <td>Satisfied</td>\n",
              "    </tr>\n",
              "    <tr>\n",
              "      <th>1</th>\n",
              "      <td>102</td>\n",
              "      <td>Male</td>\n",
              "      <td>34</td>\n",
              "      <td>Los Angeles</td>\n",
              "      <td>Silver</td>\n",
              "      <td>780.50</td>\n",
              "      <td>11</td>\n",
              "      <td>4.1</td>\n",
              "      <td>False</td>\n",
              "      <td>18</td>\n",
              "      <td>Neutral</td>\n",
              "    </tr>\n",
              "    <tr>\n",
              "      <th>2</th>\n",
              "      <td>103</td>\n",
              "      <td>Female</td>\n",
              "      <td>43</td>\n",
              "      <td>Chicago</td>\n",
              "      <td>Bronze</td>\n",
              "      <td>510.75</td>\n",
              "      <td>9</td>\n",
              "      <td>3.4</td>\n",
              "      <td>True</td>\n",
              "      <td>42</td>\n",
              "      <td>Unsatisfied</td>\n",
              "    </tr>\n",
              "    <tr>\n",
              "      <th>3</th>\n",
              "      <td>104</td>\n",
              "      <td>Male</td>\n",
              "      <td>30</td>\n",
              "      <td>San Francisco</td>\n",
              "      <td>Gold</td>\n",
              "      <td>1480.30</td>\n",
              "      <td>19</td>\n",
              "      <td>4.7</td>\n",
              "      <td>False</td>\n",
              "      <td>12</td>\n",
              "      <td>Satisfied</td>\n",
              "    </tr>\n",
              "    <tr>\n",
              "      <th>4</th>\n",
              "      <td>105</td>\n",
              "      <td>Male</td>\n",
              "      <td>27</td>\n",
              "      <td>Miami</td>\n",
              "      <td>Silver</td>\n",
              "      <td>720.40</td>\n",
              "      <td>13</td>\n",
              "      <td>4.0</td>\n",
              "      <td>True</td>\n",
              "      <td>55</td>\n",
              "      <td>Unsatisfied</td>\n",
              "    </tr>\n",
              "  </tbody>\n",
              "</table>\n",
              "</div>\n",
              "    <div class=\"colab-df-buttons\">\n",
              "\n",
              "  <div class=\"colab-df-container\">\n",
              "    <button class=\"colab-df-convert\" onclick=\"convertToInteractive('df-7b57b19b-05c7-4a7e-aef1-52dc171e6648')\"\n",
              "            title=\"Convert this dataframe to an interactive table.\"\n",
              "            style=\"display:none;\">\n",
              "\n",
              "  <svg xmlns=\"http://www.w3.org/2000/svg\" height=\"24px\" viewBox=\"0 -960 960 960\">\n",
              "    <path d=\"M120-120v-720h720v720H120Zm60-500h600v-160H180v160Zm220 220h160v-160H400v160Zm0 220h160v-160H400v160ZM180-400h160v-160H180v160Zm440 0h160v-160H620v160ZM180-180h160v-160H180v160Zm440 0h160v-160H620v160Z\"/>\n",
              "  </svg>\n",
              "    </button>\n",
              "\n",
              "  <style>\n",
              "    .colab-df-container {\n",
              "      display:flex;\n",
              "      gap: 12px;\n",
              "    }\n",
              "\n",
              "    .colab-df-convert {\n",
              "      background-color: #E8F0FE;\n",
              "      border: none;\n",
              "      border-radius: 50%;\n",
              "      cursor: pointer;\n",
              "      display: none;\n",
              "      fill: #1967D2;\n",
              "      height: 32px;\n",
              "      padding: 0 0 0 0;\n",
              "      width: 32px;\n",
              "    }\n",
              "\n",
              "    .colab-df-convert:hover {\n",
              "      background-color: #E2EBFA;\n",
              "      box-shadow: 0px 1px 2px rgba(60, 64, 67, 0.3), 0px 1px 3px 1px rgba(60, 64, 67, 0.15);\n",
              "      fill: #174EA6;\n",
              "    }\n",
              "\n",
              "    .colab-df-buttons div {\n",
              "      margin-bottom: 4px;\n",
              "    }\n",
              "\n",
              "    [theme=dark] .colab-df-convert {\n",
              "      background-color: #3B4455;\n",
              "      fill: #D2E3FC;\n",
              "    }\n",
              "\n",
              "    [theme=dark] .colab-df-convert:hover {\n",
              "      background-color: #434B5C;\n",
              "      box-shadow: 0px 1px 3px 1px rgba(0, 0, 0, 0.15);\n",
              "      filter: drop-shadow(0px 1px 2px rgba(0, 0, 0, 0.3));\n",
              "      fill: #FFFFFF;\n",
              "    }\n",
              "  </style>\n",
              "\n",
              "    <script>\n",
              "      const buttonEl =\n",
              "        document.querySelector('#df-7b57b19b-05c7-4a7e-aef1-52dc171e6648 button.colab-df-convert');\n",
              "      buttonEl.style.display =\n",
              "        google.colab.kernel.accessAllowed ? 'block' : 'none';\n",
              "\n",
              "      async function convertToInteractive(key) {\n",
              "        const element = document.querySelector('#df-7b57b19b-05c7-4a7e-aef1-52dc171e6648');\n",
              "        const dataTable =\n",
              "          await google.colab.kernel.invokeFunction('convertToInteractive',\n",
              "                                                    [key], {});\n",
              "        if (!dataTable) return;\n",
              "\n",
              "        const docLinkHtml = 'Like what you see? Visit the ' +\n",
              "          '<a target=\"_blank\" href=https://colab.research.google.com/notebooks/data_table.ipynb>data table notebook</a>'\n",
              "          + ' to learn more about interactive tables.';\n",
              "        element.innerHTML = '';\n",
              "        dataTable['output_type'] = 'display_data';\n",
              "        await google.colab.output.renderOutput(dataTable, element);\n",
              "        const docLink = document.createElement('div');\n",
              "        docLink.innerHTML = docLinkHtml;\n",
              "        element.appendChild(docLink);\n",
              "      }\n",
              "    </script>\n",
              "  </div>\n",
              "\n",
              "\n",
              "<div id=\"df-002fb3f2-b762-4a51-a420-24751031ea96\">\n",
              "  <button class=\"colab-df-quickchart\" onclick=\"quickchart('df-002fb3f2-b762-4a51-a420-24751031ea96')\"\n",
              "            title=\"Suggest charts\"\n",
              "            style=\"display:none;\">\n",
              "\n",
              "<svg xmlns=\"http://www.w3.org/2000/svg\" height=\"24px\"viewBox=\"0 0 24 24\"\n",
              "     width=\"24px\">\n",
              "    <g>\n",
              "        <path d=\"M19 3H5c-1.1 0-2 .9-2 2v14c0 1.1.9 2 2 2h14c1.1 0 2-.9 2-2V5c0-1.1-.9-2-2-2zM9 17H7v-7h2v7zm4 0h-2V7h2v10zm4 0h-2v-4h2v4z\"/>\n",
              "    </g>\n",
              "</svg>\n",
              "  </button>\n",
              "\n",
              "<style>\n",
              "  .colab-df-quickchart {\n",
              "      --bg-color: #E8F0FE;\n",
              "      --fill-color: #1967D2;\n",
              "      --hover-bg-color: #E2EBFA;\n",
              "      --hover-fill-color: #174EA6;\n",
              "      --disabled-fill-color: #AAA;\n",
              "      --disabled-bg-color: #DDD;\n",
              "  }\n",
              "\n",
              "  [theme=dark] .colab-df-quickchart {\n",
              "      --bg-color: #3B4455;\n",
              "      --fill-color: #D2E3FC;\n",
              "      --hover-bg-color: #434B5C;\n",
              "      --hover-fill-color: #FFFFFF;\n",
              "      --disabled-bg-color: #3B4455;\n",
              "      --disabled-fill-color: #666;\n",
              "  }\n",
              "\n",
              "  .colab-df-quickchart {\n",
              "    background-color: var(--bg-color);\n",
              "    border: none;\n",
              "    border-radius: 50%;\n",
              "    cursor: pointer;\n",
              "    display: none;\n",
              "    fill: var(--fill-color);\n",
              "    height: 32px;\n",
              "    padding: 0;\n",
              "    width: 32px;\n",
              "  }\n",
              "\n",
              "  .colab-df-quickchart:hover {\n",
              "    background-color: var(--hover-bg-color);\n",
              "    box-shadow: 0 1px 2px rgba(60, 64, 67, 0.3), 0 1px 3px 1px rgba(60, 64, 67, 0.15);\n",
              "    fill: var(--button-hover-fill-color);\n",
              "  }\n",
              "\n",
              "  .colab-df-quickchart-complete:disabled,\n",
              "  .colab-df-quickchart-complete:disabled:hover {\n",
              "    background-color: var(--disabled-bg-color);\n",
              "    fill: var(--disabled-fill-color);\n",
              "    box-shadow: none;\n",
              "  }\n",
              "\n",
              "  .colab-df-spinner {\n",
              "    border: 2px solid var(--fill-color);\n",
              "    border-color: transparent;\n",
              "    border-bottom-color: var(--fill-color);\n",
              "    animation:\n",
              "      spin 1s steps(1) infinite;\n",
              "  }\n",
              "\n",
              "  @keyframes spin {\n",
              "    0% {\n",
              "      border-color: transparent;\n",
              "      border-bottom-color: var(--fill-color);\n",
              "      border-left-color: var(--fill-color);\n",
              "    }\n",
              "    20% {\n",
              "      border-color: transparent;\n",
              "      border-left-color: var(--fill-color);\n",
              "      border-top-color: var(--fill-color);\n",
              "    }\n",
              "    30% {\n",
              "      border-color: transparent;\n",
              "      border-left-color: var(--fill-color);\n",
              "      border-top-color: var(--fill-color);\n",
              "      border-right-color: var(--fill-color);\n",
              "    }\n",
              "    40% {\n",
              "      border-color: transparent;\n",
              "      border-right-color: var(--fill-color);\n",
              "      border-top-color: var(--fill-color);\n",
              "    }\n",
              "    60% {\n",
              "      border-color: transparent;\n",
              "      border-right-color: var(--fill-color);\n",
              "    }\n",
              "    80% {\n",
              "      border-color: transparent;\n",
              "      border-right-color: var(--fill-color);\n",
              "      border-bottom-color: var(--fill-color);\n",
              "    }\n",
              "    90% {\n",
              "      border-color: transparent;\n",
              "      border-bottom-color: var(--fill-color);\n",
              "    }\n",
              "  }\n",
              "</style>\n",
              "\n",
              "  <script>\n",
              "    async function quickchart(key) {\n",
              "      const quickchartButtonEl =\n",
              "        document.querySelector('#' + key + ' button');\n",
              "      quickchartButtonEl.disabled = true;  // To prevent multiple clicks.\n",
              "      quickchartButtonEl.classList.add('colab-df-spinner');\n",
              "      try {\n",
              "        const charts = await google.colab.kernel.invokeFunction(\n",
              "            'suggestCharts', [key], {});\n",
              "      } catch (error) {\n",
              "        console.error('Error during call to suggestCharts:', error);\n",
              "      }\n",
              "      quickchartButtonEl.classList.remove('colab-df-spinner');\n",
              "      quickchartButtonEl.classList.add('colab-df-quickchart-complete');\n",
              "    }\n",
              "    (() => {\n",
              "      let quickchartButtonEl =\n",
              "        document.querySelector('#df-002fb3f2-b762-4a51-a420-24751031ea96 button');\n",
              "      quickchartButtonEl.style.display =\n",
              "        google.colab.kernel.accessAllowed ? 'block' : 'none';\n",
              "    })();\n",
              "  </script>\n",
              "</div>\n",
              "    </div>\n",
              "  </div>\n"
            ],
            "application/vnd.google.colaboratory.intrinsic+json": {
              "type": "dataframe",
              "variable_name": "df",
              "summary": "{\n  \"name\": \"df\",\n  \"rows\": 350,\n  \"fields\": [\n    {\n      \"column\": \"Customer ID\",\n      \"properties\": {\n        \"dtype\": \"number\",\n        \"std\": 101,\n        \"min\": 101,\n        \"max\": 450,\n        \"num_unique_values\": 350,\n        \"samples\": [\n          258,\n          442,\n          416\n        ],\n        \"semantic_type\": \"\",\n        \"description\": \"\"\n      }\n    },\n    {\n      \"column\": \"Gender\",\n      \"properties\": {\n        \"dtype\": \"category\",\n        \"num_unique_values\": 2,\n        \"samples\": [\n          \"Male\",\n          \"Female\"\n        ],\n        \"semantic_type\": \"\",\n        \"description\": \"\"\n      }\n    },\n    {\n      \"column\": \"Age\",\n      \"properties\": {\n        \"dtype\": \"number\",\n        \"std\": 4,\n        \"min\": 26,\n        \"max\": 43,\n        \"num_unique_values\": 16,\n        \"samples\": [\n          29,\n          34\n        ],\n        \"semantic_type\": \"\",\n        \"description\": \"\"\n      }\n    },\n    {\n      \"column\": \"City\",\n      \"properties\": {\n        \"dtype\": \"category\",\n        \"num_unique_values\": 6,\n        \"samples\": [\n          \"New York\",\n          \"Los Angeles\"\n        ],\n        \"semantic_type\": \"\",\n        \"description\": \"\"\n      }\n    },\n    {\n      \"column\": \"Membership Type\",\n      \"properties\": {\n        \"dtype\": \"category\",\n        \"num_unique_values\": 3,\n        \"samples\": [\n          \"Gold\",\n          \"Silver\"\n        ],\n        \"semantic_type\": \"\",\n        \"description\": \"\"\n      }\n    },\n    {\n      \"column\": \"Total Spend\",\n      \"properties\": {\n        \"dtype\": \"number\",\n        \"std\": 362.0586953474657,\n        \"min\": 410.8,\n        \"max\": 1520.1,\n        \"num_unique_values\": 76,\n        \"samples\": [\n          720.4,\n          440.9\n        ],\n        \"semantic_type\": \"\",\n        \"description\": \"\"\n      }\n    },\n    {\n      \"column\": \"Items Purchased\",\n      \"properties\": {\n        \"dtype\": \"number\",\n        \"std\": 4,\n        \"min\": 7,\n        \"max\": 21,\n        \"num_unique_values\": 15,\n        \"samples\": [\n          21,\n          16\n        ],\n        \"semantic_type\": \"\",\n        \"description\": \"\"\n      }\n    },\n    {\n      \"column\": \"Average Rating\",\n      \"properties\": {\n        \"dtype\": \"number\",\n        \"std\": 0.5805385871469686,\n        \"min\": 3.0,\n        \"max\": 4.9,\n        \"num_unique_values\": 20,\n        \"samples\": [\n          4.6,\n          3.0\n        ],\n        \"semantic_type\": \"\",\n        \"description\": \"\"\n      }\n    },\n    {\n      \"column\": \"Discount Applied\",\n      \"properties\": {\n        \"dtype\": \"boolean\",\n        \"num_unique_values\": 2,\n        \"samples\": [\n          false,\n          true\n        ],\n        \"semantic_type\": \"\",\n        \"description\": \"\"\n      }\n    },\n    {\n      \"column\": \"Days Since Last Purchase\",\n      \"properties\": {\n        \"dtype\": \"number\",\n        \"std\": 13,\n        \"min\": 9,\n        \"max\": 63,\n        \"num_unique_values\": 54,\n        \"samples\": [\n          41,\n          60\n        ],\n        \"semantic_type\": \"\",\n        \"description\": \"\"\n      }\n    },\n    {\n      \"column\": \"Satisfaction Level\",\n      \"properties\": {\n        \"dtype\": \"category\",\n        \"num_unique_values\": 3,\n        \"samples\": [\n          \"Satisfied\",\n          \"Neutral\"\n        ],\n        \"semantic_type\": \"\",\n        \"description\": \"\"\n      }\n    }\n  ]\n}"
            }
          },
          "metadata": {},
          "execution_count": 2
        }
      ]
    },
    {
      "cell_type": "markdown",
      "source": [
        "##**Describe Data**"
      ],
      "metadata": {
        "id": "_scKW7OKOaho"
      }
    },
    {
      "cell_type": "markdown",
      "source": [
        "####Informasi Dasar"
      ],
      "metadata": {
        "id": "COg7AXavQMho"
      }
    },
    {
      "cell_type": "code",
      "source": [
        "print(\"Baris :\",df.shape[0])\n",
        "print(\"Kolom :\",df.shape[1])"
      ],
      "metadata": {
        "colab": {
          "base_uri": "https://localhost:8080/"
        },
        "id": "BJsqdSnwRztl",
        "outputId": "0cf1526b-5d6f-4546-9fee-458f2a53d933"
      },
      "execution_count": 3,
      "outputs": [
        {
          "output_type": "stream",
          "name": "stdout",
          "text": [
            "Baris : 350\n",
            "Kolom : 11\n"
          ]
        }
      ]
    },
    {
      "cell_type": "markdown",
      "source": [
        "Dari informasi yang ada, dapat disimpulkan bahwa dataset ini memiliki 350 baris dan 11 kolom yang tersedia"
      ],
      "metadata": {
        "id": "IwCV1iAeSMXA"
      }
    },
    {
      "cell_type": "markdown",
      "source": [
        "####Informasi Lanjutan"
      ],
      "metadata": {
        "id": "GEii_pKvSkdC"
      }
    },
    {
      "cell_type": "code",
      "source": [
        "df.info()"
      ],
      "metadata": {
        "colab": {
          "base_uri": "https://localhost:8080/"
        },
        "id": "pe4ZHLlgSqkm",
        "outputId": "f260ecc5-373f-4c5b-e594-ba378aa4a76e"
      },
      "execution_count": 4,
      "outputs": [
        {
          "output_type": "stream",
          "name": "stdout",
          "text": [
            "<class 'pandas.core.frame.DataFrame'>\n",
            "RangeIndex: 350 entries, 0 to 349\n",
            "Data columns (total 11 columns):\n",
            " #   Column                    Non-Null Count  Dtype  \n",
            "---  ------                    --------------  -----  \n",
            " 0   Customer ID               350 non-null    int64  \n",
            " 1   Gender                    350 non-null    object \n",
            " 2   Age                       350 non-null    int64  \n",
            " 3   City                      350 non-null    object \n",
            " 4   Membership Type           350 non-null    object \n",
            " 5   Total Spend               350 non-null    float64\n",
            " 6   Items Purchased           350 non-null    int64  \n",
            " 7   Average Rating            350 non-null    float64\n",
            " 8   Discount Applied          350 non-null    bool   \n",
            " 9   Days Since Last Purchase  350 non-null    int64  \n",
            " 10  Satisfaction Level        348 non-null    object \n",
            "dtypes: bool(1), float64(2), int64(4), object(4)\n",
            "memory usage: 27.8+ KB\n"
          ]
        }
      ]
    },
    {
      "cell_type": "markdown",
      "source": [
        "Data tersebut memiliki 11 kolom yang tersedia dengan 1 tipe data bool, 2 tipe data float, 4 tipe data int dan 4 tipe data object, informasi lebih lanjutnya dijabarkan sebagai berikut:\n",
        "\n",
        "> **Customer ID** yakni kolom yang berisi ID unik untuk setiap pelanggan memiliki 350 baris data yang terisi dengan tipe datanya adalah\tint 64-bit\n",
        "\n",
        "> **Gender** yakni kolom yang berisi Jenis kelamin pelanggan memiliki 350 baris data yang terisi dengan tipe datanya adalah object\n",
        "\n",
        "> **Age**\tyakni kolom yang berisi Usia pelanggan memiliki 350 baris data yang terisi dengan tipe datanya adalah int 64-bit\n",
        "\n",
        "> **City** yakni kolom yang berisi Kota tempat tinggal pelanggan memiliki 350 baris data yang terisi dengan tipe datanya adalah object\n",
        "\n",
        "> **Membership Type** yakni kolom yang berisi Jenis keanggotaan pelanggan memiliki 350 baris data yang terisi dengan tipe datanya adalah object\n",
        "\n",
        "> **Total Spend**\tyakni kolom yang berisi Total pengeluaran pelanggan memiliki 350 baris data yang terisi dengan tipe datanya adalah float 64-bit\n",
        "\n",
        "> **Items Purchased**\tyakni kolom yang berisi Jumlah item yang dibeli pelanggan memiliki 350 baris data yang terisi dengan tipe datanya adalah int 64-bit\n",
        "\n",
        "> **Average Rating**\tyakni kolom yang berisi Rata-rata rating yang diberikan pelanggan memiliki 350 baris data yang terisi dengan tipe datanya adalah float 64-bit\n",
        "\n",
        "> **Discount Applied** yakni kolom yang berisi apakah pelanggan memakai diskonnya?(True/False) memiliki 350 baris data yang terisi dengan tipe datanya adalah bool\n",
        "\n",
        "> **Days Since Last Purchase**\tyakni kolom yang berisi Jumlah hari sejak pembelian terakhir pelanggan memiliki 350 baris data yang terisi dengan tipe datanya adalah int 64-bit\n",
        "\n",
        "> **Satisfaction Level** yakni kolom yang berisi Tingkat kepuasan pelanggan memiliki 348 baris data yang terisi dengan tipe datanya adalah object"
      ],
      "metadata": {
        "id": "qAIuprysTh8q"
      }
    },
    {
      "cell_type": "markdown",
      "source": [
        "####Informasi Statistik Deskriptif"
      ],
      "metadata": {
        "id": "-e1jFisGT7Nq"
      }
    },
    {
      "cell_type": "code",
      "source": [
        "df.describe()"
      ],
      "metadata": {
        "colab": {
          "base_uri": "https://localhost:8080/",
          "height": 300
        },
        "id": "DcC_khv-T92s",
        "outputId": "505a9e05-0cad-4115-b20d-4fa5d54794c8"
      },
      "execution_count": 5,
      "outputs": [
        {
          "output_type": "execute_result",
          "data": {
            "text/plain": [
              "       Customer ID         Age  Total Spend  Items Purchased  Average Rating  \\\n",
              "count   350.000000  350.000000   350.000000       350.000000      350.000000   \n",
              "mean    275.500000   33.597143   845.381714        12.600000        4.019143   \n",
              "std     101.180532    4.870882   362.058695         4.155984        0.580539   \n",
              "min     101.000000   26.000000   410.800000         7.000000        3.000000   \n",
              "25%     188.250000   30.000000   502.000000         9.000000        3.500000   \n",
              "50%     275.500000   32.500000   775.200000        12.000000        4.100000   \n",
              "75%     362.750000   37.000000  1160.600000        15.000000        4.500000   \n",
              "max     450.000000   43.000000  1520.100000        21.000000        4.900000   \n",
              "\n",
              "       Days Since Last Purchase  \n",
              "count                350.000000  \n",
              "mean                  26.588571  \n",
              "std                   13.440813  \n",
              "min                    9.000000  \n",
              "25%                   15.000000  \n",
              "50%                   23.000000  \n",
              "75%                   38.000000  \n",
              "max                   63.000000  "
            ],
            "text/html": [
              "\n",
              "  <div id=\"df-7dabe850-42ec-43f3-a727-a17444c498e9\" class=\"colab-df-container\">\n",
              "    <div>\n",
              "<style scoped>\n",
              "    .dataframe tbody tr th:only-of-type {\n",
              "        vertical-align: middle;\n",
              "    }\n",
              "\n",
              "    .dataframe tbody tr th {\n",
              "        vertical-align: top;\n",
              "    }\n",
              "\n",
              "    .dataframe thead th {\n",
              "        text-align: right;\n",
              "    }\n",
              "</style>\n",
              "<table border=\"1\" class=\"dataframe\">\n",
              "  <thead>\n",
              "    <tr style=\"text-align: right;\">\n",
              "      <th></th>\n",
              "      <th>Customer ID</th>\n",
              "      <th>Age</th>\n",
              "      <th>Total Spend</th>\n",
              "      <th>Items Purchased</th>\n",
              "      <th>Average Rating</th>\n",
              "      <th>Days Since Last Purchase</th>\n",
              "    </tr>\n",
              "  </thead>\n",
              "  <tbody>\n",
              "    <tr>\n",
              "      <th>count</th>\n",
              "      <td>350.000000</td>\n",
              "      <td>350.000000</td>\n",
              "      <td>350.000000</td>\n",
              "      <td>350.000000</td>\n",
              "      <td>350.000000</td>\n",
              "      <td>350.000000</td>\n",
              "    </tr>\n",
              "    <tr>\n",
              "      <th>mean</th>\n",
              "      <td>275.500000</td>\n",
              "      <td>33.597143</td>\n",
              "      <td>845.381714</td>\n",
              "      <td>12.600000</td>\n",
              "      <td>4.019143</td>\n",
              "      <td>26.588571</td>\n",
              "    </tr>\n",
              "    <tr>\n",
              "      <th>std</th>\n",
              "      <td>101.180532</td>\n",
              "      <td>4.870882</td>\n",
              "      <td>362.058695</td>\n",
              "      <td>4.155984</td>\n",
              "      <td>0.580539</td>\n",
              "      <td>13.440813</td>\n",
              "    </tr>\n",
              "    <tr>\n",
              "      <th>min</th>\n",
              "      <td>101.000000</td>\n",
              "      <td>26.000000</td>\n",
              "      <td>410.800000</td>\n",
              "      <td>7.000000</td>\n",
              "      <td>3.000000</td>\n",
              "      <td>9.000000</td>\n",
              "    </tr>\n",
              "    <tr>\n",
              "      <th>25%</th>\n",
              "      <td>188.250000</td>\n",
              "      <td>30.000000</td>\n",
              "      <td>502.000000</td>\n",
              "      <td>9.000000</td>\n",
              "      <td>3.500000</td>\n",
              "      <td>15.000000</td>\n",
              "    </tr>\n",
              "    <tr>\n",
              "      <th>50%</th>\n",
              "      <td>275.500000</td>\n",
              "      <td>32.500000</td>\n",
              "      <td>775.200000</td>\n",
              "      <td>12.000000</td>\n",
              "      <td>4.100000</td>\n",
              "      <td>23.000000</td>\n",
              "    </tr>\n",
              "    <tr>\n",
              "      <th>75%</th>\n",
              "      <td>362.750000</td>\n",
              "      <td>37.000000</td>\n",
              "      <td>1160.600000</td>\n",
              "      <td>15.000000</td>\n",
              "      <td>4.500000</td>\n",
              "      <td>38.000000</td>\n",
              "    </tr>\n",
              "    <tr>\n",
              "      <th>max</th>\n",
              "      <td>450.000000</td>\n",
              "      <td>43.000000</td>\n",
              "      <td>1520.100000</td>\n",
              "      <td>21.000000</td>\n",
              "      <td>4.900000</td>\n",
              "      <td>63.000000</td>\n",
              "    </tr>\n",
              "  </tbody>\n",
              "</table>\n",
              "</div>\n",
              "    <div class=\"colab-df-buttons\">\n",
              "\n",
              "  <div class=\"colab-df-container\">\n",
              "    <button class=\"colab-df-convert\" onclick=\"convertToInteractive('df-7dabe850-42ec-43f3-a727-a17444c498e9')\"\n",
              "            title=\"Convert this dataframe to an interactive table.\"\n",
              "            style=\"display:none;\">\n",
              "\n",
              "  <svg xmlns=\"http://www.w3.org/2000/svg\" height=\"24px\" viewBox=\"0 -960 960 960\">\n",
              "    <path d=\"M120-120v-720h720v720H120Zm60-500h600v-160H180v160Zm220 220h160v-160H400v160Zm0 220h160v-160H400v160ZM180-400h160v-160H180v160Zm440 0h160v-160H620v160ZM180-180h160v-160H180v160Zm440 0h160v-160H620v160Z\"/>\n",
              "  </svg>\n",
              "    </button>\n",
              "\n",
              "  <style>\n",
              "    .colab-df-container {\n",
              "      display:flex;\n",
              "      gap: 12px;\n",
              "    }\n",
              "\n",
              "    .colab-df-convert {\n",
              "      background-color: #E8F0FE;\n",
              "      border: none;\n",
              "      border-radius: 50%;\n",
              "      cursor: pointer;\n",
              "      display: none;\n",
              "      fill: #1967D2;\n",
              "      height: 32px;\n",
              "      padding: 0 0 0 0;\n",
              "      width: 32px;\n",
              "    }\n",
              "\n",
              "    .colab-df-convert:hover {\n",
              "      background-color: #E2EBFA;\n",
              "      box-shadow: 0px 1px 2px rgba(60, 64, 67, 0.3), 0px 1px 3px 1px rgba(60, 64, 67, 0.15);\n",
              "      fill: #174EA6;\n",
              "    }\n",
              "\n",
              "    .colab-df-buttons div {\n",
              "      margin-bottom: 4px;\n",
              "    }\n",
              "\n",
              "    [theme=dark] .colab-df-convert {\n",
              "      background-color: #3B4455;\n",
              "      fill: #D2E3FC;\n",
              "    }\n",
              "\n",
              "    [theme=dark] .colab-df-convert:hover {\n",
              "      background-color: #434B5C;\n",
              "      box-shadow: 0px 1px 3px 1px rgba(0, 0, 0, 0.15);\n",
              "      filter: drop-shadow(0px 1px 2px rgba(0, 0, 0, 0.3));\n",
              "      fill: #FFFFFF;\n",
              "    }\n",
              "  </style>\n",
              "\n",
              "    <script>\n",
              "      const buttonEl =\n",
              "        document.querySelector('#df-7dabe850-42ec-43f3-a727-a17444c498e9 button.colab-df-convert');\n",
              "      buttonEl.style.display =\n",
              "        google.colab.kernel.accessAllowed ? 'block' : 'none';\n",
              "\n",
              "      async function convertToInteractive(key) {\n",
              "        const element = document.querySelector('#df-7dabe850-42ec-43f3-a727-a17444c498e9');\n",
              "        const dataTable =\n",
              "          await google.colab.kernel.invokeFunction('convertToInteractive',\n",
              "                                                    [key], {});\n",
              "        if (!dataTable) return;\n",
              "\n",
              "        const docLinkHtml = 'Like what you see? Visit the ' +\n",
              "          '<a target=\"_blank\" href=https://colab.research.google.com/notebooks/data_table.ipynb>data table notebook</a>'\n",
              "          + ' to learn more about interactive tables.';\n",
              "        element.innerHTML = '';\n",
              "        dataTable['output_type'] = 'display_data';\n",
              "        await google.colab.output.renderOutput(dataTable, element);\n",
              "        const docLink = document.createElement('div');\n",
              "        docLink.innerHTML = docLinkHtml;\n",
              "        element.appendChild(docLink);\n",
              "      }\n",
              "    </script>\n",
              "  </div>\n",
              "\n",
              "\n",
              "<div id=\"df-042467e5-cdbb-4667-82e7-4922ee71a630\">\n",
              "  <button class=\"colab-df-quickchart\" onclick=\"quickchart('df-042467e5-cdbb-4667-82e7-4922ee71a630')\"\n",
              "            title=\"Suggest charts\"\n",
              "            style=\"display:none;\">\n",
              "\n",
              "<svg xmlns=\"http://www.w3.org/2000/svg\" height=\"24px\"viewBox=\"0 0 24 24\"\n",
              "     width=\"24px\">\n",
              "    <g>\n",
              "        <path d=\"M19 3H5c-1.1 0-2 .9-2 2v14c0 1.1.9 2 2 2h14c1.1 0 2-.9 2-2V5c0-1.1-.9-2-2-2zM9 17H7v-7h2v7zm4 0h-2V7h2v10zm4 0h-2v-4h2v4z\"/>\n",
              "    </g>\n",
              "</svg>\n",
              "  </button>\n",
              "\n",
              "<style>\n",
              "  .colab-df-quickchart {\n",
              "      --bg-color: #E8F0FE;\n",
              "      --fill-color: #1967D2;\n",
              "      --hover-bg-color: #E2EBFA;\n",
              "      --hover-fill-color: #174EA6;\n",
              "      --disabled-fill-color: #AAA;\n",
              "      --disabled-bg-color: #DDD;\n",
              "  }\n",
              "\n",
              "  [theme=dark] .colab-df-quickchart {\n",
              "      --bg-color: #3B4455;\n",
              "      --fill-color: #D2E3FC;\n",
              "      --hover-bg-color: #434B5C;\n",
              "      --hover-fill-color: #FFFFFF;\n",
              "      --disabled-bg-color: #3B4455;\n",
              "      --disabled-fill-color: #666;\n",
              "  }\n",
              "\n",
              "  .colab-df-quickchart {\n",
              "    background-color: var(--bg-color);\n",
              "    border: none;\n",
              "    border-radius: 50%;\n",
              "    cursor: pointer;\n",
              "    display: none;\n",
              "    fill: var(--fill-color);\n",
              "    height: 32px;\n",
              "    padding: 0;\n",
              "    width: 32px;\n",
              "  }\n",
              "\n",
              "  .colab-df-quickchart:hover {\n",
              "    background-color: var(--hover-bg-color);\n",
              "    box-shadow: 0 1px 2px rgba(60, 64, 67, 0.3), 0 1px 3px 1px rgba(60, 64, 67, 0.15);\n",
              "    fill: var(--button-hover-fill-color);\n",
              "  }\n",
              "\n",
              "  .colab-df-quickchart-complete:disabled,\n",
              "  .colab-df-quickchart-complete:disabled:hover {\n",
              "    background-color: var(--disabled-bg-color);\n",
              "    fill: var(--disabled-fill-color);\n",
              "    box-shadow: none;\n",
              "  }\n",
              "\n",
              "  .colab-df-spinner {\n",
              "    border: 2px solid var(--fill-color);\n",
              "    border-color: transparent;\n",
              "    border-bottom-color: var(--fill-color);\n",
              "    animation:\n",
              "      spin 1s steps(1) infinite;\n",
              "  }\n",
              "\n",
              "  @keyframes spin {\n",
              "    0% {\n",
              "      border-color: transparent;\n",
              "      border-bottom-color: var(--fill-color);\n",
              "      border-left-color: var(--fill-color);\n",
              "    }\n",
              "    20% {\n",
              "      border-color: transparent;\n",
              "      border-left-color: var(--fill-color);\n",
              "      border-top-color: var(--fill-color);\n",
              "    }\n",
              "    30% {\n",
              "      border-color: transparent;\n",
              "      border-left-color: var(--fill-color);\n",
              "      border-top-color: var(--fill-color);\n",
              "      border-right-color: var(--fill-color);\n",
              "    }\n",
              "    40% {\n",
              "      border-color: transparent;\n",
              "      border-right-color: var(--fill-color);\n",
              "      border-top-color: var(--fill-color);\n",
              "    }\n",
              "    60% {\n",
              "      border-color: transparent;\n",
              "      border-right-color: var(--fill-color);\n",
              "    }\n",
              "    80% {\n",
              "      border-color: transparent;\n",
              "      border-right-color: var(--fill-color);\n",
              "      border-bottom-color: var(--fill-color);\n",
              "    }\n",
              "    90% {\n",
              "      border-color: transparent;\n",
              "      border-bottom-color: var(--fill-color);\n",
              "    }\n",
              "  }\n",
              "</style>\n",
              "\n",
              "  <script>\n",
              "    async function quickchart(key) {\n",
              "      const quickchartButtonEl =\n",
              "        document.querySelector('#' + key + ' button');\n",
              "      quickchartButtonEl.disabled = true;  // To prevent multiple clicks.\n",
              "      quickchartButtonEl.classList.add('colab-df-spinner');\n",
              "      try {\n",
              "        const charts = await google.colab.kernel.invokeFunction(\n",
              "            'suggestCharts', [key], {});\n",
              "      } catch (error) {\n",
              "        console.error('Error during call to suggestCharts:', error);\n",
              "      }\n",
              "      quickchartButtonEl.classList.remove('colab-df-spinner');\n",
              "      quickchartButtonEl.classList.add('colab-df-quickchart-complete');\n",
              "    }\n",
              "    (() => {\n",
              "      let quickchartButtonEl =\n",
              "        document.querySelector('#df-042467e5-cdbb-4667-82e7-4922ee71a630 button');\n",
              "      quickchartButtonEl.style.display =\n",
              "        google.colab.kernel.accessAllowed ? 'block' : 'none';\n",
              "    })();\n",
              "  </script>\n",
              "</div>\n",
              "    </div>\n",
              "  </div>\n"
            ],
            "application/vnd.google.colaboratory.intrinsic+json": {
              "type": "dataframe",
              "summary": "{\n  \"name\": \"df\",\n  \"rows\": 8,\n  \"fields\": [\n    {\n      \"column\": \"Customer ID\",\n      \"properties\": {\n        \"dtype\": \"number\",\n        \"std\": 125.82167723697957,\n        \"min\": 101.0,\n        \"max\": 450.0,\n        \"num_unique_values\": 7,\n        \"samples\": [\n          350.0,\n          275.5,\n          362.75\n        ],\n        \"semantic_type\": \"\",\n        \"description\": \"\"\n      }\n    },\n    {\n      \"column\": \"Age\",\n      \"properties\": {\n        \"dtype\": \"number\",\n        \"std\": 113.84580479546716,\n        \"min\": 4.870882183548377,\n        \"max\": 350.0,\n        \"num_unique_values\": 8,\n        \"samples\": [\n          33.597142857142856,\n          32.5,\n          350.0\n        ],\n        \"semantic_type\": \"\",\n        \"description\": \"\"\n      }\n    },\n    {\n      \"column\": \"Total Spend\",\n      \"properties\": {\n        \"dtype\": \"number\",\n        \"std\": 423.8861492007103,\n        \"min\": 350.0,\n        \"max\": 1520.1,\n        \"num_unique_values\": 8,\n        \"samples\": [\n          845.3817142857142,\n          775.2,\n          350.0\n        ],\n        \"semantic_type\": \"\",\n        \"description\": \"\"\n      }\n    },\n    {\n      \"column\": \"Items Purchased\",\n      \"properties\": {\n        \"dtype\": \"number\",\n        \"std\": 119.77490343177186,\n        \"min\": 4.155984396472745,\n        \"max\": 350.0,\n        \"num_unique_values\": 8,\n        \"samples\": [\n          12.6,\n          12.0,\n          350.0\n        ],\n        \"semantic_type\": \"\",\n        \"description\": \"\"\n      }\n    },\n    {\n      \"column\": \"Average Rating\",\n      \"properties\": {\n        \"dtype\": \"number\",\n        \"std\": 122.50842266501334,\n        \"min\": 0.5805385871469686,\n        \"max\": 350.0,\n        \"num_unique_values\": 8,\n        \"samples\": [\n          4.019142857142858,\n          4.1,\n          350.0\n        ],\n        \"semantic_type\": \"\",\n        \"description\": \"\"\n      }\n    },\n    {\n      \"column\": \"Days Since Last Purchase\",\n      \"properties\": {\n        \"dtype\": \"number\",\n        \"std\": 115.54291426745235,\n        \"min\": 9.0,\n        \"max\": 350.0,\n        \"num_unique_values\": 8,\n        \"samples\": [\n          26.588571428571427,\n          23.0,\n          350.0\n        ],\n        \"semantic_type\": \"\",\n        \"description\": \"\"\n      }\n    }\n  ]\n}"
            }
          },
          "metadata": {},
          "execution_count": 5
        }
      ]
    },
    {
      "cell_type": "markdown",
      "source": [
        "1. **Customer ID (ID Pelanggan):**\n",
        "   - **Count (Jumlah):** Terdapat 350 pelanggan dalam dataset.\n",
        "   - **Mean (Rata-rata):** Rata-rata ID pelanggan adalah 275,5, menunjukkan kisaran ID yang cukup merata.\n",
        "   - **Standard Deviation (Deviasi Standar):** Distribusi usia memiliki deviasi standar sekitar 4,87\n",
        "   - **Min (Minimum):** ID pelanggan terkecil adalah 101.\n",
        "   - **25%:** Kuartil pertama memiliki ID pelanggan sebesar 188,25.\n",
        "   - **50% (Median):** ID pelanggan tengah adalah 275,5.\n",
        "   - **75%:** Kuartil ketiga memiliki ID pelanggan sebesar 362,75.\n",
        "   - **Max (Maksimum):** ID pelanggan terbesar adalah 450.\n",
        "\n",
        "2. **Age (Usia):**\n",
        "   - **Count (Jumlah):** Terdapat 350 pelanggan dalam dataset.\n",
        "   - **Mean (Rata-rata):** Rata-rata usia pelanggan adalah sekitar 33,6 tahun.\n",
        "   - **Standard Deviation (Deviasi Standar):** Distribusi usia memiliki deviasi standar sekitar 4,87\n",
        "   - **Min (Minimum):** Pelanggan termuda berusia 26 tahun.\n",
        "   - **25%:** Kuartil pertama memiliki usia 30 tahun.\n",
        "   - **50% (Median):** Usia median adalah 32,5 tahun.\n",
        "   - **75%:** Kuartil ketiga memiliki usia 37 tahun.\n",
        "   - **Max (Maksimum):** Pelanggan tertua berusia 43 tahun.\n",
        "\n",
        "3. **Total Spend (Total Belanja):**\n",
        "   - **Count (Jumlah):** Terdapat 350 pelanggan dalam dataset.\n",
        "   - **Mean (Rata-rata):** Rata-rata pelanggan telah menghabiskan sekitar 845,38.\n",
        "   - **Standard Deviation (Deviasi Standar):** Distribusi pengeluaran memiliki deviasi standar sekitar 362,06\n",
        "   - **Min (Minimum):** Total pengeluaran minimum adalah 410,8.\n",
        "   - **25%:** Kuartil pertama memiliki total pengeluaran 502.\n",
        "   - **50% (Median):** Total pengeluaran median adalah 775,2.\n",
        "   - **75%:** Kuartil ketiga memiliki total pengeluaran 1160,6.\n",
        "   - **Max (Maksimum):** Total pengeluaran maksimum adalah 1520,1.\n",
        "\n",
        "4. **Items Purchased (Barang yang Dibeli):**\n",
        "   - **Count (Jumlah):** Terdapat 350 pelanggan dalam dataset.\n",
        "   - **Mean (Rata-rata):** Rata-rata pelanggan telah membeli 12,6 barang.\n",
        "   - **Standard Deviation (Deviasi Standar):** Distribusi barang yang dibeli memiliki deviasi standar sekitar 4,16\n",
        "   - **Min (Minimum):** Jumlah barang yang dibeli minimum adalah 7.\n",
        "   - **25%:** Kuartil pertama memiliki 9 barang yang dibeli.\n",
        "   - **50% (Median):** Jumlah barang yang dibeli median adalah 12.\n",
        "   - **75%:** Kuartil ketiga memiliki 15 barang yang dibeli.\n",
        "   - **Max (Maksimum):** Jumlah barang yang dibeli maksimum adalah 21.\n",
        "\n",
        "5. **Average Rating (Rating Rata-rata):**\n",
        "   - **Count (Jumlah):** Terdapat 350 pelanggan dalam dataset.\n",
        "   - **Mean (Rata-rata):** Rating rata-rata yang diberikan oleh pelanggan adalah sekitar 4,02.\n",
        "   - **Standard Deviation (Deviasi Standar):** Distribusi rating memiliki deviasi standar sekitar 0,58.\n",
        "   - **Min (Minimum):** Rating minimum adalah 3.\n",
        "   - **25%:** Kuartil pertama memiliki rating 3,5.\n",
        "   - **50% (Median):** Rating median adalah 4,1.\n",
        "   - **75%:** Kuartil ketiga memiliki rating 4,5.\n",
        "   - **Max (Maksimum):** Rating maksimum adalah 4,9.\n",
        "\n",
        "6. **Days Since Last Purchase (Hari Sejak Pembelian Terakhir):**\n",
        "   - **Count (Jumlah):** Terdapat 350 pelanggan dalam dataset.\n",
        "   - **Mean (Rata-rata):** Rata-rata sudah sekitar 26,59 hari sejak pembelian terakhir pelanggan.\n",
        "   - **Standard Deviation (Deviasi Standar):** Distribusi hari sejak pembelian terakhir memiliki deviasi standar sekitar 13,44.\n",
        "   - **Min (Minimum):** Jumlah hari terkecil sejak pembelian terakhir adalah 9 hari.\n",
        "   - **25%:** Kuartil pertama memiliki 15 hari sejak pembelian terakhir.\n",
        "   - **50% (Median):** Median adalah 23 hari sejak pembelian terakhir.\n",
        "   - **75%:** Kuartil ketiga memiliki 38 hari sejak pembelian terakhir.\n",
        "   - **Max (Maksimum):** Jumlah hari terbesar sejak pembelian terakhir adalah 63 hari."
      ],
      "metadata": {
        "id": "Q9xjIlDTV4cL"
      }
    },
    {
      "cell_type": "markdown",
      "source": [
        "##**Exploratory Data Analysis**"
      ],
      "metadata": {
        "id": "DLjRtmcsW9kA"
      }
    },
    {
      "cell_type": "code",
      "source": [
        "fig, ax = plt.subplots()\n",
        "\n",
        "sns.distplot(df['Average Rating'],\n",
        "            kde=True,\n",
        "            color=\"b\")\n",
        "\n",
        "plt.title('Histogram rating rata-rata')\n",
        "plt.show()"
      ],
      "metadata": {
        "colab": {
          "base_uri": "https://localhost:8080/",
          "height": 663
        },
        "id": "nh48RCZuf8Ji",
        "outputId": "7d504cdc-4d40-4c94-be4e-f5e198b08b8e"
      },
      "execution_count": 6,
      "outputs": [
        {
          "output_type": "stream",
          "name": "stderr",
          "text": [
            "<ipython-input-6-20c6003c1394>:3: UserWarning: \n",
            "\n",
            "`distplot` is a deprecated function and will be removed in seaborn v0.14.0.\n",
            "\n",
            "Please adapt your code to use either `displot` (a figure-level function with\n",
            "similar flexibility) or `histplot` (an axes-level function for histograms).\n",
            "\n",
            "For a guide to updating your code to use the new functions, please see\n",
            "https://gist.github.com/mwaskom/de44147ed2974457ad6372750bbe5751\n",
            "\n",
            "  sns.distplot(df['Average Rating'],\n"
          ]
        },
        {
          "output_type": "display_data",
          "data": {
            "text/plain": [
              "<Figure size 640x480 with 1 Axes>"
            ],
            "image/png": "[encoded data removed]"
          },
          "metadata": {}
        }
      ]
    },
    {
      "cell_type": "markdown",
      "source": [
        "Histogram tersebut memberikan gambaran megenai distribusi rating pada E-Commerce. yang mana sumbu x adalah Average ratingnya dan sumbu y adalah kepadatan datanya. Rata-rata (mean) rating E-commerce adalah 3,8, menunjukkan bahwa secara keseluruhan, situs tersebut mendapat penilaian yang relatif tinggi dari penggunanya. Median rating, yang berada pada 3,9, mengindikasikan bahwa separuh pengguna memberikan rating di atas 3,9 dan separuhnya memberikan rating di bawahnya. Modus rating E-commerce adalah 4,2, menunjukkan bahwa rating 4,2 paling sering diberikan oleh pengguna.\n",
        "\n",
        "Dalam hal skewness, distribusi rating E-commerce cenderung miring ke kiri. Ini menandakan bahwa lebih banyak pengguna yang memberikan rating tinggi daripada yang memberikan rating rendah. Sebagai tambahan, kurtosis distribusi rating sedikit lebih tinggi dari distribusi normal, menunjukkan bahwa lebih banyak pengguna memberikan rating rata-rata daripada memberikan rating ekstrim (sangat tinggi atau sangat rendah). Dengan informasi ini, kita dapat menyimpulkan bahwa E-commerce tersebut cenderung mendapatkan penilaian positif dari mayoritas penggunanya, dengan kebanyakan rating berada di kisaran rata-rata.\n",
        "\n",
        "**Interpretasi :**\n",
        "\n",
        "> Interpretasi dari rata-rata dan median rating yang tinggi menunjukkan bahwa E-commerce ini diterima dengan baik oleh pengguna. Modus rating yang tinggi juga menandakan bahwa mayoritas pengguna puas dengan layanan yang diberikan oleh E-commerce tersebut. Distribusi rating yang sedikit miring ke kiri mengindikasikan bahwa sebagian besar pengguna merasa puas dengan E-commerce, dengan lebih sedikit yang tidak puas.\n",
        "\n",
        "**Solusi :**\n",
        "\n",
        "> Namun, distribusi rating yang sedikit lebih kurtosis menggambarkan bahwa ada sejumlah pengguna yang memberikan rating netral. Oleh karena itu, E-commerce bisa mempertimbangkan untuk melakukan survei lebih lanjut guna memahami preferensi dan ketidakpuasan pengguna dengan lebih baik. Dengan mengumpulkan umpan balik lebih rinci, E-commerce dapat mengidentifikasi area yang perlu diperbaiki atau ditingkatkan."
      ],
      "metadata": {
        "id": "A4KoHLGC9RGg"
      }
    },
    {
      "cell_type": "markdown",
      "source": [],
      "metadata": {
        "id": "jm5HOxWesky6"
      }
    },
    {
      "cell_type": "code",
      "source": [
        "cols = ['grey' if x < max(df['City']) else 'orange' for x in df['City']]\n",
        "\n",
        "plt.figure(figsize=(10, 6))\n",
        "sns.barplot(x=df['City'], y=df['Total Spend'], palette=cols)\n",
        "\n",
        "plt.title('Total Pengeluaran dari setiap Kota')\n",
        "plt.xlabel('City')\n",
        "plt.ylabel('Total Spend')\n",
        "plt.show()"
      ],
      "metadata": {
        "colab": {
          "base_uri": "https://localhost:8080/",
          "height": 686
        },
        "id": "3H7lDkkZOh4W",
        "outputId": "0a846e79-b156-41e3-bc0e-dc1e44d69380"
      },
      "execution_count": 18,
      "outputs": [
        {
          "output_type": "stream",
          "name": "stderr",
          "text": [
            "<ipython-input-18-e14d480923de>:4: FutureWarning: \n",
            "\n",
            "Passing `palette` without assigning `hue` is deprecated and will be removed in v0.14.0. Assign the `x` variable to `hue` and set `legend=False` for the same effect.\n",
            "\n",
            "  sns.barplot(x=df['City'], y=df['Total Spend'], palette=cols)\n",
            "<ipython-input-18-e14d480923de>:4: UserWarning: The palette list has more values (350) than needed (6), which may not be intended.\n",
            "  sns.barplot(x=df['City'], y=df['Total Spend'], palette=cols)\n"
          ]
        },
        {
          "output_type": "display_data",
          "data": {
            "text/plain": [
              "<Figure size 1000x600 with 1 Axes>"
            ],
            "image/png": "[encoded data removed]"
          },
          "metadata": {}
        }
      ]
    },
    {
      "cell_type": "markdown",
      "source": [
        "Bar chart tersebut mengidentifikasi kan Total Pengeluaran pelanggan dari Setiap Kota di E-commerce. Setiap batang dalam sumbu x mewakili nama kota dan sumbu y mewakili total pengeluaran pelanggan dalam bentuk dollar. Warna kuning tua dipilih untuk menyoroti pengeluaran pelanggan di Kota San Francisco sebagai kota yang paling tinggi nilai pengeluarannya yakni diatas 1400. Rata-rata total pengeluaran di enam kota mencapai 866.67, sementara mediannya berada pada angka 800. Dan simpangan bakunya mencapai 321.47\n",
        "\n",
        "**Interpretasi :**\n",
        "\n",
        ">Pelanggan tertinggi adalah San Francisco, yang terlihat dari batang kuning tua yang mencuat di atas yang lainnya. Dengan melihat rata-rata total pengeluaran di enam kota kita dapat menyimpulkan bahwa secara umum, pengeluaran pelanggan cenderung tinggi. Median yang bada menunjukkan bahwa distribusi pengeluaran tidak terlalu terpengaruh oleh nilai-nilai ekstrem. Meskipun demikian, simpangan baku yang tinggi menunjukkan variasi yang signifikan dari nilai-nilai rata-rata, yang dapat diartikan bahwa ada ketidaksetaraan yang besar dalam pengeluaran pelanggan di antara kota-kota tersebut.\n",
        "\n",
        "**Solusi :**\n",
        "\n",
        ">Untuk meningkatkan kinerja, strategi pemasaran dapat diarahkan ke analisis mendalam faktor-faktor penyebab perbedaan, memungkinkan penyesuaian strategi pemasaran berbasis kota dan pengembangan produk yang sesuai dengan preferensi setiap kota. Analisis tren perubahan seiring waktu juga dapat membantu dalam merencanakan strategi jangka panjang untuk mendukung pertumbuhan dan keberlanjutan bisnis e-commerce tersebut.\n"
      ],
      "metadata": {
        "id": "YoaSzTS7CZtp"
      }
    },
    {
      "cell_type": "code",
      "source": [
        "satisfaction_count = df['Satisfaction Level'].value_counts().sort_values(ascending=False)\n",
        "\n",
        "max_percentage_index = satisfaction_count.idxmax()\n",
        "highlight_color = ['red' if idx == max_percentage_index else 'lightgrey' for i, idx in enumerate(satisfaction_count.index)]\n",
        "\n",
        "plt.figure(figsize=(8, 8))\n",
        "pie_chart = plt.pie(satisfaction_count, labels=satisfaction_count.index, autopct='%1.1f%%', startangle=90, colors=highlight_color)\n",
        "\n",
        "for wedge in pie_chart[0]:\n",
        "    wedge.set_edgecolor('black')\n",
        "\n",
        "plt.title('Distribusi Kepuasan Konsumen')\n",
        "plt.show()"
      ],
      "metadata": {
        "colab": {
          "base_uri": "https://localhost:8080/",
          "height": 675
        },
        "id": "3Sp-dU8SgHx4",
        "outputId": "712c4ee4-dcba-4eda-edeb-8b32f591dfe1"
      },
      "execution_count": 19,
      "outputs": [
        {
          "output_type": "display_data",
          "data": {
            "text/plain": [
              "<Figure size 800x800 with 1 Axes>"
            ],
            "image/png": "[encoded data removed]"
          },
          "metadata": {}
        }
      ]
    },
    {
      "cell_type": "markdown",
      "source": [
        "Pie chart ini menjelaskan mengenai presentase kepuasan yang dimiliki oleh konsumen E-commerce, terdapat 3 utama kategori didalam pembagiannya yakni, Neutral pemilik presentase terendah sebesar 30.7%, disusul dengan Unsatisfied sebesar 33.3%, dan kategori dengan nilai presentase tertinggi dimiliki oleh Satisfied sebesar 35.9% untuk memudahkan visualisasi maka satisfied sebagai nilai tertinggi memiliki warna mencolok dibandingkan dengan kategori lain.\n",
        "\n",
        "**Interpretasi :**\n",
        "\n",
        ">Sebanyak 35.9% konsumen menyatakan kepuasan mereka, menandakan bahwa mayoritas pengguna merasa puas dengan layanan yang mereka terima. Ini mungkin disebabkan oleh pengalaman berbelanja yang lancar dan memuaskan. Meskipun demikian, sebanyak 30.7% konsumen memiliki sikap netral, menunjukkan bahwa sebagian besar dari mereka tidak memiliki persepsi yang kuat terhadap pengalaman belanja online. Sementara itu, 33.3% konsumen menyatakan ketidakpuasan, yang mungkin dapat disebabkan oleh masalah dan faktor lain yang tidak memuaskan\n",
        "\n",
        "**Solusi :**\n",
        ">meningkatkan faktor yang memungkinkan konsumen merasa senang dengan begitu, diharapkan perusahaan dapat meningkatkan tingkat kepuasan konsumen, mengubah sikap netral menjadi positif, dan secara signifikan mengurangi persentase konsumen yang merasa tidak puas."
      ],
      "metadata": {
        "id": "J95EhK0HKS9w"
      }
    },
    {
      "cell_type": "code",
      "source": [
        "fig, ax = plt.subplots()\n",
        "sns.barplot(x=\"Gender\",\n",
        "            y=\"Total Spend\",\n",
        "            hue=\"Membership Type\",\n",
        "            data=df,\n",
        "            palette=\"Set2\")\n",
        "\n",
        "plt.show()"
      ],
      "metadata": {
        "colab": {
          "base_uri": "https://localhost:8080/",
          "height": 449
        },
        "id": "cQw1uLHFZHXq",
        "outputId": "215b8bc2-9f10-4d6e-97c0-dea8d0251e9f"
      },
      "execution_count": 9,
      "outputs": [
        {
          "output_type": "display_data",
          "data": {
            "text/plain": [
              "<Figure size 640x480 with 1 Axes>"
            ],
            "image/png": "[encoded data removed]"
          },
          "metadata": {}
        }
      ]
    },
    {
      "cell_type": "markdown",
      "source": [
        "Sumbu x (sumbu horizontal) dari plot akan mewakili data untuk \"Gender\" atau jenis kelamin.  Sumbu y (sumbu vertikal) dari plot akan mewakili data untuk \"Total Spend\" atau total pengeluaran konsumen. data kemudian dikelompokkan berdasarkan jenis keanggotaan (Silver, Gold, dan Platinum), setiap jenis keanggotaan akan ditunjukkan dengan warna yang berbeda pada plot.\n",
        "\n",
        "Groped barchart tersebut memvisualisasikan korelasi variabel pengeluaran total pada e-commerce terhadap variabel gender dan kemudian dibagi berdasarkan tipe membershipnya\n",
        "\n",
        "**Interpretasi :**\n",
        "\n",
        "> Dapat disimpulkan bahwa keanggotaan Gold memiliki total pengeluaran tertinggi dibandingkan dengan jenis keanggotaan lainnya. Pertama, perlu dicatat bahwa gender wanita memiliki kecenderungan untuk memiliki lebih banyak jenis keanggotaan (Gold, Silver, Bronze) dibandingkan dengan gender pria, yang hanya memiliki dua jenis keanggotaan (Gold dan Silver). Selanjutnya, pada jenis keanggotaan Silver, baik wanita maupun pria memiliki total pengeluaran yang hampir serupa, yaitu sekitar 700 dollar. Secara keseluruhan, dapat disimpulkan bahwa keanggotaan Gold menonjol sebagai yang memiliki total pengeluaran paling tinggi, sementara wanita cenderung memiliki lebih banyak variasi dalam jenis keanggotaan dibandingkan dengan pria.\n",
        "\n",
        "**Solusi :**\n",
        "\n",
        ">Strategi dapat difokuskan pada meningkatkan keanggotaan Gold yang sebelumnya terpantau mendominasi. Wanita cenderung memiliki lebih banyak variasi keanggotaan dibandingkan pria, sehingga melakukan penyesuaian strategi pemasaran demi menarik lebih banyak pria ke dalam program keanggotaan.\n"
      ],
      "metadata": {
        "id": "wQOEgyEQOUoE"
      }
    },
    {
      "cell_type": "code",
      "source": [
        "fig, ax = plt.subplots()\n",
        "\n",
        "sns.regplot(x=\"Days Since Last Purchase\",\n",
        "            y=\"Items Purchased\",\n",
        "            data=df,\n",
        "            ax=ax)\n",
        "\n",
        "plt.show()"
      ],
      "metadata": {
        "colab": {
          "base_uri": "https://localhost:8080/",
          "height": 449
        },
        "id": "at4QGWeaaS99",
        "outputId": "18d8ed20-28e4-40b4-9c7e-74c98c88b30a"
      },
      "execution_count": 10,
      "outputs": [
        {
          "output_type": "display_data",
          "data": {
            "text/plain": [
              "<Figure size 640x480 with 1 Axes>"
            ],
            "image/png": "[encoded data removed]"
          },
          "metadata": {}
        }
      ]
    },
    {
      "cell_type": "markdown",
      "source": [
        "Scatter chart di atas menunjukkan hubungan antara jumlah item yang dibeli dan jumlah hari sejak pembelian terakhir. Sumbu x berarti Jumlah hari sejak pembelian terakhir (dalam rentang 0 hingga 60 hari) dan sumbu y berarti Jumlah item yang dibeli (dalam rentang 0 hingga 20 item)\n",
        "\n",
        "Setiap titik pada scatter chart mewakili satu data point. Posisi titik menunjukkan nilai kedua variabel untuk data point tersebut. seperti titik di koordinat (20, 12) menunjukkan bahwa 12 item dibeli 20 hari setelah pembelian terakhir. Secara umum, scatter chart menunjukkan tren penurunan jumlah item yang dibeli seiring dengan bertambahnya jumlah hari sejak pembelian terakhir. seperti Pada 10 hari pertama setelah pembelian terakhir, rata-rata 15 item dibeli. Pada 40 hari setelah pembelian terakhir, rata-rata hanya 5 item dibeli.\n",
        "\n",
        "meskipun terdapat tren penurunan, terdapat beberapa pola lain yang dapat diamati yakni pada Pola lonjakannya Pada beberapa hari, terdapat lonjakan pembelian, seperti pada hari ke-20 dan ke-50. dan pada Pola outlier Ada beberapa data point yang jauh dari tren umum, seperti data point di koordinat (40, 18).\n",
        "\n",
        "**Interpretasi :**\n",
        ">Scatter chart tersebut menunjukkan bahwa terdapat hubungan negatif antara jumlah item yang dibeli dan jumlah hari sejak pembelian terakhir. Semakin lama waktu yang berlalu sejak pembelian terakhir, semakin sedikit item yang dibeli.\n",
        "\n",
        "**Solusi:**\n",
        "> Dalam interpretasi, terlihat adanya hubungan negatif antara jumlah item yang dibeli dan jumlah hari sejak pembelian terakhir, menunjukkan penurunan pembelian seiring bertambahnya waktu. Untuk mengatasi pola tersebut, dapat dilakukan identifikasi penyebab lonjakan pembelian pada hari tertentu, pemanfaatan strategi promosi pada hari-hari khusus, analisis data outlier,"
      ],
      "metadata": {
        "id": "khXHXSWLZvno"
      }
    },
    {
      "cell_type": "markdown",
      "source": [
        "##**Verify Data Quality**"
      ],
      "metadata": {
        "id": "JZ4ThY2CLq4l"
      }
    },
    {
      "cell_type": "markdown",
      "source": [
        "####Missing Values"
      ],
      "metadata": {
        "id": "NzQQm7s0Lr5M"
      }
    },
    {
      "cell_type": "code",
      "source": [
        "df.isna().sum()"
      ],
      "metadata": {
        "colab": {
          "base_uri": "https://localhost:8080/"
        },
        "id": "rTUOt_bdLwr0",
        "outputId": "5b09aea6-9876-42f6-b842-527db800bb71"
      },
      "execution_count": 11,
      "outputs": [
        {
          "output_type": "execute_result",
          "data": {
            "text/plain": [
              "Customer ID                 0\n",
              "Gender                      0\n",
              "Age                         0\n",
              "City                        0\n",
              "Membership Type             0\n",
              "Total Spend                 0\n",
              "Items Purchased             0\n",
              "Average Rating              0\n",
              "Discount Applied            0\n",
              "Days Since Last Purchase    0\n",
              "Satisfaction Level          2\n",
              "dtype: int64"
            ]
          },
          "metadata": {},
          "execution_count": 11
        }
      ]
    },
    {
      "cell_type": "markdown",
      "source": [
        "Berdasarkan indormasi diatas terdapat 2 nilai yang hilang/kosong pada kolom Satisfaction Level, sedangkan untuk kolom yang lain terbebas dari nilai hilang"
      ],
      "metadata": {
        "id": "Br4bkkNhb1RG"
      }
    },
    {
      "cell_type": "markdown",
      "source": [
        "####Outliers Values"
      ],
      "metadata": {
        "id": "1XvkaRPLMI2b"
      }
    },
    {
      "cell_type": "code",
      "source": [
        "results = []\n",
        "\n",
        "cols =df.select_dtypes(include=['float64', 'int64'])\n",
        "\n",
        "for col in cols:\n",
        "  q1 =df[col].quantile(0.25)\n",
        "  q3 =df[col].quantile(0.75)\n",
        "  iqr = q3 - q1\n",
        "  lower_bound = q1 - 1.5*iqr\n",
        "  upper_bound = q3 + 1.5*iqr\n",
        "  outliers =df[(df[col] < lower_bound) | (df[col] > upper_bound)]\n",
        "  percent_outliers = (len(outliers)/len(df))*100\n",
        "  results.append({'Kolom': col, 'Persentase Outliers': percent_outliers})\n",
        "\n",
        "# Dataframe dari list hasil\n",
        "resultsdf = pd.DataFrame(results)\n",
        "resultsdf.set_index('Kolom', inplace=True)\n",
        "resultsdf = resultsdf.rename_axis(None, axis=0).rename_axis('Kolom', axis=1)\n",
        "\n",
        "# Tampilkan dataframe\n",
        "display(resultsdf)"
      ],
      "metadata": {
        "colab": {
          "base_uri": "https://localhost:8080/",
          "height": 238
        },
        "id": "BQsxZhIPMPSu",
        "outputId": "1c424920-20ac-4a31-b5a6-05e9faef4bed"
      },
      "execution_count": 12,
      "outputs": [
        {
          "output_type": "display_data",
          "data": {
            "text/plain": [
              "Kolom                     Persentase Outliers\n",
              "Customer ID                               0.0\n",
              "Age                                       0.0\n",
              "Total Spend                               0.0\n",
              "Items Purchased                           0.0\n",
              "Average Rating                            0.0\n",
              "Days Since Last Purchase                  0.0"
            ],
            "text/html": [
              "\n",
              "  <div id=\"df-533cb832-4c3e-47d8-aa51-d94f490bb970\" class=\"colab-df-container\">\n",
              "    <div>\n",
              "<style scoped>\n",
              "    .dataframe tbody tr th:only-of-type {\n",
              "        vertical-align: middle;\n",
              "    }\n",
              "\n",
              "    .dataframe tbody tr th {\n",
              "        vertical-align: top;\n",
              "    }\n",
              "\n",
              "    .dataframe thead th {\n",
              "        text-align: right;\n",
              "    }\n",
              "</style>\n",
              "<table border=\"1\" class=\"dataframe\">\n",
              "  <thead>\n",
              "    <tr style=\"text-align: right;\">\n",
              "      <th>Kolom</th>\n",
              "      <th>Persentase Outliers</th>\n",
              "    </tr>\n",
              "  </thead>\n",
              "  <tbody>\n",
              "    <tr>\n",
              "      <th>Customer ID</th>\n",
              "      <td>0.0</td>\n",
              "    </tr>\n",
              "    <tr>\n",
              "      <th>Age</th>\n",
              "      <td>0.0</td>\n",
              "    </tr>\n",
              "    <tr>\n",
              "      <th>Total Spend</th>\n",
              "      <td>0.0</td>\n",
              "    </tr>\n",
              "    <tr>\n",
              "      <th>Items Purchased</th>\n",
              "      <td>0.0</td>\n",
              "    </tr>\n",
              "    <tr>\n",
              "      <th>Average Rating</th>\n",
              "      <td>0.0</td>\n",
              "    </tr>\n",
              "    <tr>\n",
              "      <th>Days Since Last Purchase</th>\n",
              "      <td>0.0</td>\n",
              "    </tr>\n",
              "  </tbody>\n",
              "</table>\n",
              "</div>\n",
              "    <div class=\"colab-df-buttons\">\n",
              "\n",
              "  <div class=\"colab-df-container\">\n",
              "    <button class=\"colab-df-convert\" onclick=\"convertToInteractive('df-533cb832-4c3e-47d8-aa51-d94f490bb970')\"\n",
              "            title=\"Convert this dataframe to an interactive table.\"\n",
              "            style=\"display:none;\">\n",
              "\n",
              "  <svg xmlns=\"http://www.w3.org/2000/svg\" height=\"24px\" viewBox=\"0 -960 960 960\">\n",
              "    <path d=\"M120-120v-720h720v720H120Zm60-500h600v-160H180v160Zm220 220h160v-160H400v160Zm0 220h160v-160H400v160ZM180-400h160v-160H180v160Zm440 0h160v-160H620v160ZM180-180h160v-160H180v160Zm440 0h160v-160H620v160Z\"/>\n",
              "  </svg>\n",
              "    </button>\n",
              "\n",
              "  <style>\n",
              "    .colab-df-container {\n",
              "      display:flex;\n",
              "      gap: 12px;\n",
              "    }\n",
              "\n",
              "    .colab-df-convert {\n",
              "      background-color: #E8F0FE;\n",
              "      border: none;\n",
              "      border-radius: 50%;\n",
              "      cursor: pointer;\n",
              "      display: none;\n",
              "      fill: #1967D2;\n",
              "      height: 32px;\n",
              "      padding: 0 0 0 0;\n",
              "      width: 32px;\n",
              "    }\n",
              "\n",
              "    .colab-df-convert:hover {\n",
              "      background-color: #E2EBFA;\n",
              "      box-shadow: 0px 1px 2px rgba(60, 64, 67, 0.3), 0px 1px 3px 1px rgba(60, 64, 67, 0.15);\n",
              "      fill: #174EA6;\n",
              "    }\n",
              "\n",
              "    .colab-df-buttons div {\n",
              "      margin-bottom: 4px;\n",
              "    }\n",
              "\n",
              "    [theme=dark] .colab-df-convert {\n",
              "      background-color: #3B4455;\n",
              "      fill: #D2E3FC;\n",
              "    }\n",
              "\n",
              "    [theme=dark] .colab-df-convert:hover {\n",
              "      background-color: #434B5C;\n",
              "      box-shadow: 0px 1px 3px 1px rgba(0, 0, 0, 0.15);\n",
              "      filter: drop-shadow(0px 1px 2px rgba(0, 0, 0, 0.3));\n",
              "      fill: #FFFFFF;\n",
              "    }\n",
              "  </style>\n",
              "\n",
              "    <script>\n",
              "      const buttonEl =\n",
              "        document.querySelector('#df-533cb832-4c3e-47d8-aa51-d94f490bb970 button.colab-df-convert');\n",
              "      buttonEl.style.display =\n",
              "        google.colab.kernel.accessAllowed ? 'block' : 'none';\n",
              "\n",
              "      async function convertToInteractive(key) {\n",
              "        const element = document.querySelector('#df-533cb832-4c3e-47d8-aa51-d94f490bb970');\n",
              "        const dataTable =\n",
              "          await google.colab.kernel.invokeFunction('convertToInteractive',\n",
              "                                                    [key], {});\n",
              "        if (!dataTable) return;\n",
              "\n",
              "        const docLinkHtml = 'Like what you see? Visit the ' +\n",
              "          '<a target=\"_blank\" href=https://colab.research.google.com/notebooks/data_table.ipynb>data table notebook</a>'\n",
              "          + ' to learn more about interactive tables.';\n",
              "        element.innerHTML = '';\n",
              "        dataTable['output_type'] = 'display_data';\n",
              "        await google.colab.output.renderOutput(dataTable, element);\n",
              "        const docLink = document.createElement('div');\n",
              "        docLink.innerHTML = docLinkHtml;\n",
              "        element.appendChild(docLink);\n",
              "      }\n",
              "    </script>\n",
              "  </div>\n",
              "\n",
              "\n",
              "<div id=\"df-e4870ef0-6637-418c-93b4-56b7e7340f83\">\n",
              "  <button class=\"colab-df-quickchart\" onclick=\"quickchart('df-e4870ef0-6637-418c-93b4-56b7e7340f83')\"\n",
              "            title=\"Suggest charts\"\n",
              "            style=\"display:none;\">\n",
              "\n",
              "<svg xmlns=\"http://www.w3.org/2000/svg\" height=\"24px\"viewBox=\"0 0 24 24\"\n",
              "     width=\"24px\">\n",
              "    <g>\n",
              "        <path d=\"M19 3H5c-1.1 0-2 .9-2 2v14c0 1.1.9 2 2 2h14c1.1 0 2-.9 2-2V5c0-1.1-.9-2-2-2zM9 17H7v-7h2v7zm4 0h-2V7h2v10zm4 0h-2v-4h2v4z\"/>\n",
              "    </g>\n",
              "</svg>\n",
              "  </button>\n",
              "\n",
              "<style>\n",
              "  .colab-df-quickchart {\n",
              "      --bg-color: #E8F0FE;\n",
              "      --fill-color: #1967D2;\n",
              "      --hover-bg-color: #E2EBFA;\n",
              "      --hover-fill-color: #174EA6;\n",
              "      --disabled-fill-color: #AAA;\n",
              "      --disabled-bg-color: #DDD;\n",
              "  }\n",
              "\n",
              "  [theme=dark] .colab-df-quickchart {\n",
              "      --bg-color: #3B4455;\n",
              "      --fill-color: #D2E3FC;\n",
              "      --hover-bg-color: #434B5C;\n",
              "      --hover-fill-color: #FFFFFF;\n",
              "      --disabled-bg-color: #3B4455;\n",
              "      --disabled-fill-color: #666;\n",
              "  }\n",
              "\n",
              "  .colab-df-quickchart {\n",
              "    background-color: var(--bg-color);\n",
              "    border: none;\n",
              "    border-radius: 50%;\n",
              "    cursor: pointer;\n",
              "    display: none;\n",
              "    fill: var(--fill-color);\n",
              "    height: 32px;\n",
              "    padding: 0;\n",
              "    width: 32px;\n",
              "  }\n",
              "\n",
              "  .colab-df-quickchart:hover {\n",
              "    background-color: var(--hover-bg-color);\n",
              "    box-shadow: 0 1px 2px rgba(60, 64, 67, 0.3), 0 1px 3px 1px rgba(60, 64, 67, 0.15);\n",
              "    fill: var(--button-hover-fill-color);\n",
              "  }\n",
              "\n",
              "  .colab-df-quickchart-complete:disabled,\n",
              "  .colab-df-quickchart-complete:disabled:hover {\n",
              "    background-color: var(--disabled-bg-color);\n",
              "    fill: var(--disabled-fill-color);\n",
              "    box-shadow: none;\n",
              "  }\n",
              "\n",
              "  .colab-df-spinner {\n",
              "    border: 2px solid var(--fill-color);\n",
              "    border-color: transparent;\n",
              "    border-bottom-color: var(--fill-color);\n",
              "    animation:\n",
              "      spin 1s steps(1) infinite;\n",
              "  }\n",
              "\n",
              "  @keyframes spin {\n",
              "    0% {\n",
              "      border-color: transparent;\n",
              "      border-bottom-color: var(--fill-color);\n",
              "      border-left-color: var(--fill-color);\n",
              "    }\n",
              "    20% {\n",
              "      border-color: transparent;\n",
              "      border-left-color: var(--fill-color);\n",
              "      border-top-color: var(--fill-color);\n",
              "    }\n",
              "    30% {\n",
              "      border-color: transparent;\n",
              "      border-left-color: var(--fill-color);\n",
              "      border-top-color: var(--fill-color);\n",
              "      border-right-color: var(--fill-color);\n",
              "    }\n",
              "    40% {\n",
              "      border-color: transparent;\n",
              "      border-right-color: var(--fill-color);\n",
              "      border-top-color: var(--fill-color);\n",
              "    }\n",
              "    60% {\n",
              "      border-color: transparent;\n",
              "      border-right-color: var(--fill-color);\n",
              "    }\n",
              "    80% {\n",
              "      border-color: transparent;\n",
              "      border-right-color: var(--fill-color);\n",
              "      border-bottom-color: var(--fill-color);\n",
              "    }\n",
              "    90% {\n",
              "      border-color: transparent;\n",
              "      border-bottom-color: var(--fill-color);\n",
              "    }\n",
              "  }\n",
              "</style>\n",
              "\n",
              "  <script>\n",
              "    async function quickchart(key) {\n",
              "      const quickchartButtonEl =\n",
              "        document.querySelector('#' + key + ' button');\n",
              "      quickchartButtonEl.disabled = true;  // To prevent multiple clicks.\n",
              "      quickchartButtonEl.classList.add('colab-df-spinner');\n",
              "      try {\n",
              "        const charts = await google.colab.kernel.invokeFunction(\n",
              "            'suggestCharts', [key], {});\n",
              "      } catch (error) {\n",
              "        console.error('Error during call to suggestCharts:', error);\n",
              "      }\n",
              "      quickchartButtonEl.classList.remove('colab-df-spinner');\n",
              "      quickchartButtonEl.classList.add('colab-df-quickchart-complete');\n",
              "    }\n",
              "    (() => {\n",
              "      let quickchartButtonEl =\n",
              "        document.querySelector('#df-e4870ef0-6637-418c-93b4-56b7e7340f83 button');\n",
              "      quickchartButtonEl.style.display =\n",
              "        google.colab.kernel.accessAllowed ? 'block' : 'none';\n",
              "    })();\n",
              "  </script>\n",
              "</div>\n",
              "    </div>\n",
              "  </div>\n"
            ],
            "application/vnd.google.colaboratory.intrinsic+json": {
              "type": "dataframe",
              "variable_name": "resultsdf",
              "summary": "{\n  \"name\": \"resultsdf\",\n  \"rows\": 6,\n  \"fields\": [\n    {\n      \"column\": \"Persentase Outliers\",\n      \"properties\": {\n        \"dtype\": \"number\",\n        \"std\": 0.0,\n        \"min\": 0.0,\n        \"max\": 0.0,\n        \"num_unique_values\": 1,\n        \"samples\": [\n          0.0\n        ],\n        \"semantic_type\": \"\",\n        \"description\": \"\"\n      }\n    }\n  ]\n}"
            }
          },
          "metadata": {}
        }
      ]
    },
    {
      "cell_type": "markdown",
      "source": [
        "Dengan persentase outliers sebesar 0.0 untuk setiap kolom, yang artinya tidak ada outliers yang terdeteksi dalam kolom tersebut. Berdasarkan analisis outliers ini, dataset dapat dianggap relatif bersih dari nilai-nilai yang sangat ekstrim atau anomali di setiap kolom."
      ],
      "metadata": {
        "id": "f8F5I_FicSRK"
      }
    },
    {
      "cell_type": "markdown",
      "source": [
        "####Duplicated Values"
      ],
      "metadata": {
        "id": "oJrvSL_qMjWb"
      }
    },
    {
      "cell_type": "code",
      "source": [
        "df[df.duplicated()]"
      ],
      "metadata": {
        "colab": {
          "base_uri": "https://localhost:8080/",
          "height": 53
        },
        "id": "sJmerSwAMoZa",
        "outputId": "a0953853-f18f-4595-a003-10322d109c80"
      },
      "execution_count": 13,
      "outputs": [
        {
          "output_type": "execute_result",
          "data": {
            "text/plain": [
              "Empty DataFrame\n",
              "Columns: [Customer ID, Gender, Age, City, Membership Type, Total Spend, Items Purchased, Average Rating, Discount Applied, Days Since Last Purchase, Satisfaction Level]\n",
              "Index: []"
            ],
            "text/html": [
              "\n",
              "  <div id=\"df-5cd86d73-cf49-433f-bc0e-62a02d367ad5\" class=\"colab-df-container\">\n",
              "    <div>\n",
              "<style scoped>\n",
              "    .dataframe tbody tr th:only-of-type {\n",
              "        vertical-align: middle;\n",
              "    }\n",
              "\n",
              "    .dataframe tbody tr th {\n",
              "        vertical-align: top;\n",
              "    }\n",
              "\n",
              "    .dataframe thead th {\n",
              "        text-align: right;\n",
              "    }\n",
              "</style>\n",
              "<table border=\"1\" class=\"dataframe\">\n",
              "  <thead>\n",
              "    <tr style=\"text-align: right;\">\n",
              "      <th></th>\n",
              "      <th>Customer ID</th>\n",
              "      <th>Gender</th>\n",
              "      <th>Age</th>\n",
              "      <th>City</th>\n",
              "      <th>Membership Type</th>\n",
              "      <th>Total Spend</th>\n",
              "      <th>Items Purchased</th>\n",
              "      <th>Average Rating</th>\n",
              "      <th>Discount Applied</th>\n",
              "      <th>Days Since Last Purchase</th>\n",
              "      <th>Satisfaction Level</th>\n",
              "    </tr>\n",
              "  </thead>\n",
              "  <tbody>\n",
              "  </tbody>\n",
              "</table>\n",
              "</div>\n",
              "    <div class=\"colab-df-buttons\">\n",
              "\n",
              "  <div class=\"colab-df-container\">\n",
              "    <button class=\"colab-df-convert\" onclick=\"convertToInteractive('df-5cd86d73-cf49-433f-bc0e-62a02d367ad5')\"\n",
              "            title=\"Convert this dataframe to an interactive table.\"\n",
              "            style=\"display:none;\">\n",
              "\n",
              "  <svg xmlns=\"http://www.w3.org/2000/svg\" height=\"24px\" viewBox=\"0 -960 960 960\">\n",
              "    <path d=\"M120-120v-720h720v720H120Zm60-500h600v-160H180v160Zm220 220h160v-160H400v160Zm0 220h160v-160H400v160ZM180-400h160v-160H180v160Zm440 0h160v-160H620v160ZM180-180h160v-160H180v160Zm440 0h160v-160H620v160Z\"/>\n",
              "  </svg>\n",
              "    </button>\n",
              "\n",
              "  <style>\n",
              "    .colab-df-container {\n",
              "      display:flex;\n",
              "      gap: 12px;\n",
              "    }\n",
              "\n",
              "    .colab-df-convert {\n",
              "      background-color: #E8F0FE;\n",
              "      border: none;\n",
              "      border-radius: 50%;\n",
              "      cursor: pointer;\n",
              "      display: none;\n",
              "      fill: #1967D2;\n",
              "      height: 32px;\n",
              "      padding: 0 0 0 0;\n",
              "      width: 32px;\n",
              "    }\n",
              "\n",
              "    .colab-df-convert:hover {\n",
              "      background-color: #E2EBFA;\n",
              "      box-shadow: 0px 1px 2px rgba(60, 64, 67, 0.3), 0px 1px 3px 1px rgba(60, 64, 67, 0.15);\n",
              "      fill: #174EA6;\n",
              "    }\n",
              "\n",
              "    .colab-df-buttons div {\n",
              "      margin-bottom: 4px;\n",
              "    }\n",
              "\n",
              "    [theme=dark] .colab-df-convert {\n",
              "      background-color: #3B4455;\n",
              "      fill: #D2E3FC;\n",
              "    }\n",
              "\n",
              "    [theme=dark] .colab-df-convert:hover {\n",
              "      background-color: #434B5C;\n",
              "      box-shadow: 0px 1px 3px 1px rgba(0, 0, 0, 0.15);\n",
              "      filter: drop-shadow(0px 1px 2px rgba(0, 0, 0, 0.3));\n",
              "      fill: #FFFFFF;\n",
              "    }\n",
              "  </style>\n",
              "\n",
              "    <script>\n",
              "      const buttonEl =\n",
              "        document.querySelector('#df-5cd86d73-cf49-433f-bc0e-62a02d367ad5 button.colab-df-convert');\n",
              "      buttonEl.style.display =\n",
              "        google.colab.kernel.accessAllowed ? 'block' : 'none';\n",
              "\n",
              "      async function convertToInteractive(key) {\n",
              "        const element = document.querySelector('#df-5cd86d73-cf49-433f-bc0e-62a02d367ad5');\n",
              "        const dataTable =\n",
              "          await google.colab.kernel.invokeFunction('convertToInteractive',\n",
              "                                                    [key], {});\n",
              "        if (!dataTable) return;\n",
              "\n",
              "        const docLinkHtml = 'Like what you see? Visit the ' +\n",
              "          '<a target=\"_blank\" href=https://colab.research.google.com/notebooks/data_table.ipynb>data table notebook</a>'\n",
              "          + ' to learn more about interactive tables.';\n",
              "        element.innerHTML = '';\n",
              "        dataTable['output_type'] = 'display_data';\n",
              "        await google.colab.output.renderOutput(dataTable, element);\n",
              "        const docLink = document.createElement('div');\n",
              "        docLink.innerHTML = docLinkHtml;\n",
              "        element.appendChild(docLink);\n",
              "      }\n",
              "    </script>\n",
              "  </div>\n",
              "\n",
              "    </div>\n",
              "  </div>\n"
            ],
            "application/vnd.google.colaboratory.intrinsic+json": {
              "type": "dataframe",
              "repr_error": "'str' object has no attribute 'empty'"
            }
          },
          "metadata": {},
          "execution_count": 13
        }
      ]
    },
    {
      "cell_type": "code",
      "source": [
        "df.duplicated()"
      ],
      "metadata": {
        "colab": {
          "base_uri": "https://localhost:8080/"
        },
        "id": "USTOyF8zNilX",
        "outputId": "9f1a20fa-2d4f-4b9e-bdf7-c0d86f85cd0c"
      },
      "execution_count": 14,
      "outputs": [
        {
          "output_type": "execute_result",
          "data": {
            "text/plain": [
              "0      False\n",
              "1      False\n",
              "2      False\n",
              "3      False\n",
              "4      False\n",
              "       ...  \n",
              "345    False\n",
              "346    False\n",
              "347    False\n",
              "348    False\n",
              "349    False\n",
              "Length: 350, dtype: bool"
            ]
          },
          "metadata": {},
          "execution_count": 14
        }
      ]
    },
    {
      "cell_type": "markdown",
      "source": [
        "Berdasarkan analisis dari informasi yang ada, dapat disimpulkan dataset terbebas dari nilai data yang terduplikasi"
      ],
      "metadata": {
        "id": "yuNuZZqcdzzq"
      }
    },
    {
      "cell_type": "markdown",
      "source": [
        "####Inconsistent Values / Noise (Optional)"
      ],
      "metadata": {
        "id": "xpb0BmaCOSaL"
      }
    },
    {
      "cell_type": "code",
      "source": [
        "#PENGECEKKAN PERTAMA\n",
        "#mengecek potensial anomali atau nilai tidak terduga\n",
        "kolom_kategorikal = ['City', 'Gender', 'Membership Type', 'Total Spend', 'Items Purchased', 'Average Rating', 'Discount Applied', 'Days Since Last Purchase', 'Satisfaction Level']\n",
        "\n",
        "for kolom in kolom_kategorikal:\n",
        "    nilai_unik = df[kolom].unique()\n",
        "    print(f\"Nilai unik dalam kolom {kolom}:\", nilai_unik)\n",
        "\n",
        "    if df[kolom].dtype == 'object':\n",
        "        unexpected_values = df[df[kolom].str.strip() == '']\n",
        "        if not unexpected_values.empty:\n",
        "            print(f\"Potensial data tidak sesuai dalam kolom {kolom}:\", unexpected_values)\n",
        "    else:\n",
        "        unexpected_values = df[df[kolom] < 0]\n",
        "        if not unexpected_values.empty:\n",
        "            print(f\"Potensial data tidak sesuai dalam kolom {kolom}:\", unexpected_values)\n"
      ],
      "metadata": {
        "colab": {
          "base_uri": "https://localhost:8080/"
        },
        "id": "17AbKTc_vxrq",
        "outputId": "4a0ac47a-803f-4ef4-c12c-f0e45792eec8"
      },
      "execution_count": 15,
      "outputs": [
        {
          "output_type": "stream",
          "name": "stdout",
          "text": [
            "Nilai unik dalam kolom City: ['New York' 'Los Angeles' 'Chicago' 'San Francisco' 'Miami' 'Houston']\n",
            "Nilai unik dalam kolom Gender: ['Female' 'Male']\n",
            "Nilai unik dalam kolom Membership Type: ['Gold' 'Silver' 'Bronze']\n",
            "Nilai unik dalam kolom Total Spend: [1120.2   780.5   510.75 1480.3   720.4   440.8  1150.6   800.9   495.25\n",
            " 1520.1   690.3   470.5  1200.8   820.75  530.4  1360.2   700.6   450.9\n",
            " 1170.3   790.2   505.75 1470.5   710.4   430.8  1140.6   810.9   485.25\n",
            " 1500.1   670.3   460.5  1190.8   830.75  520.4  1370.2   690.6   440.9\n",
            " 1160.3   800.2   500.75 1460.5   700.4   420.8  1130.6   820.9   480.25\n",
            " 1490.1   680.3  1180.8  1420.8   730.4   450.6  1210.6   780.9  1390.2\n",
            "  670.6   460.9   810.2   515.75 1450.5   690.4   525.75  830.9   490.25\n",
            " 1480.1   480.5  1170.8  1440.5   410.8  1160.6   660.3   430.5   780.2\n",
            "  450.8   475.25  770.2   440.5 ]\n",
            "Nilai unik dalam kolom Items Purchased: [14 11  9 19 13  8 15 12 10 21  7 16 18 20 17]\n",
            "Nilai unik dalam kolom Average Rating: [4.6 4.1 3.4 4.7 4.  3.1 4.5 4.2 3.6 4.8 3.8 3.2 4.3 4.4 3.5 4.9 3.7 3.\n",
            " 3.3 3.9]\n",
            "Nilai unik dalam kolom Discount Applied: [ True False]\n",
            "Nilai unik dalam kolom Days Since Last Purchase: [25 18 42 12 55 22 28 14 40  9 34 20 21 15 38 11 48 29 16 41 13 54 23 27\n",
            " 39 10 33 19 37 47 24 17 53 26 32 50 35 46 52 56 57 30 36 43 58 31 44 59\n",
            " 45 60 61 62 63 49]\n",
            "Nilai unik dalam kolom Satisfaction Level: ['Satisfied' 'Neutral' 'Unsatisfied' nan]\n"
          ]
        }
      ]
    },
    {
      "cell_type": "code",
      "source": [
        "#PENGECEKKAN KEDUA\n",
        "#Memeriksa apakah nilai di beberapa kolom kurang dari 0 untuk setiap baris\n",
        "selected_columns = [\"Age\", \"Total Spend\", \"Items Purchased\", \"Average Rating\", \"Days Since Last Purchase\"]\n",
        "mask_negative_age = (df[selected_columns] < 0).any(axis=1)\n",
        "print(mask_negative_age)"
      ],
      "metadata": {
        "colab": {
          "base_uri": "https://localhost:8080/"
        },
        "id": "9iBAJbeExdNc",
        "outputId": "dca57f35-81f1-4325-d479-f28e28b0a998"
      },
      "execution_count": 16,
      "outputs": [
        {
          "output_type": "stream",
          "name": "stdout",
          "text": [
            "0      False\n",
            "1      False\n",
            "2      False\n",
            "3      False\n",
            "4      False\n",
            "       ...  \n",
            "345    False\n",
            "346    False\n",
            "347    False\n",
            "348    False\n",
            "349    False\n",
            "Length: 350, dtype: bool\n"
          ]
        }
      ]
    },
    {
      "cell_type": "markdown",
      "source": [
        "Berdasarkan dua pengecekan di atas, yaitu pengecekan pertama berupa potensial data yang tidak sesuai dalam kolom, tidak ada indikasi bahwa dataset ini berpotensi memiliki nilai tak terduga dari kategori string maupun numerik. Selain itu, tidak terdapat data yang aneh di dalam setiap nilai unik yang dimilikinya.\n",
        "\n",
        "Pengecekan kedua, yaitu pengecekan terhadap kemungkinan adanya angka negatif di kolom-kolom numerik yang seharusnya tidak memiliki nilai negatif, menunjukkan bahwa tidak ada data yang demikian."
      ],
      "metadata": {
        "id": "fpU4p6h2eHpr"
      }
    }
  ]
}